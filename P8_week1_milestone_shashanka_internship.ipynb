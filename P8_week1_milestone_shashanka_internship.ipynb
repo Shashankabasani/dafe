{
  "cells": [
    {
      "cell_type": "markdown",
      "metadata": {
        "id": "view-in-github",
        "colab_type": "text"
      },
      "source": [
        "<a href=\"https://colab.research.google.com/github/Shashankabasani/dafe/blob/main/P8_week1_milestone_shashanka_internship.ipynb\" target=\"_parent\"><img src=\"https://colab.research.google.com/assets/colab-badge.svg\" alt=\"Open In Colab\"/></a>"
      ]
    },
    {
      "cell_type": "markdown",
      "id": "52eda26a",
      "metadata": {
        "id": "52eda26a"
      },
      "source": [
        "<div style=\"border-radius:10px; padding: 15px; background-color: #ffeacc; font-size:130%; text-align:left\">\n",
        "\n",
        "<h2 align=\"left\"><font color=#ff6200>P8 Building Customer Segmentation Models using Python</font></h2>"
      ]
    },
    {
      "cell_type": "markdown",
      "id": "f4f7afcc",
      "metadata": {
        "id": "f4f7afcc"
      },
      "source": [
        "<div style=\"border-radius:10px; padding: 10px; background-color: #C1FDBC; font-size:120%; text-align:left\">\n",
        "<h4 align=\"left\"><font color=black>Full Name:</font></h4>\n",
        "<h4 align=\"left\"><font color=black>Internship Registraion ID: </font></h4>"
      ]
    },
    {
      "cell_type": "markdown",
      "id": "7c9b8473",
      "metadata": {
        "papermill": {
          "duration": 0.056654,
          "end_time": "2023-09-13T18:55:29.073469",
          "exception": false,
          "start_time": "2023-09-13T18:55:29.016815",
          "status": "completed"
        },
        "tags": [],
        "id": "7c9b8473"
      },
      "source": [
        "<img src=\"https://github.com/FarzadNekouee/Retail_Customer_Segmentation_Recommendation_System/blob/master/image.png?raw=true\" width=\"2400\">"
      ]
    },
    {
      "cell_type": "markdown",
      "id": "ae7b7d8d",
      "metadata": {
        "papermill": {
          "duration": 0.054531,
          "end_time": "2023-09-13T18:55:29.182670",
          "exception": false,
          "start_time": "2023-09-13T18:55:29.128139",
          "status": "completed"
        },
        "tags": [],
        "id": "ae7b7d8d"
      },
      "source": [
        "<div style=\"border-radius:10px; padding: 15px; background-color: #ffeacc; font-size:130%; text-align:left\">\n",
        "\n",
        "<h2 align=\"left\"><font color=#ff6200>Problem:</font></h2>\n",
        "\n",
        "\n",
        "In this project, we delve deep into the thriving sector of __online retail__ by analyzing a __transactional dataset__ from a UK-based retailer, available at the [UCI Machine Learning Repository](https://archive.ics.uci.edu/dataset/352/online+retail). This dataset documents all transactions between 2010 and 2011. Our primary objective is to amplify the efficiency of marketing strategies and boost sales through __customer segmentation__. We aim to transform the transactional data into a customer-centric dataset by creating new features that will facilitate the segmentation of customers into distinct groups using the __K-means clustering__ algorithm. This segmentation will allow us to understand the distinct __profiles__ and preferences of different customer groups. Building upon this, we intend to develop a __recommendation system__ that will suggest top-selling products to customers within each segment who haven't purchased those items yet, ultimately enhancing marketing efficacy and fostering increased sales.\n"
      ]
    },
    {
      "cell_type": "markdown",
      "id": "b0167c09",
      "metadata": {
        "papermill": {
          "duration": 0.054838,
          "end_time": "2023-09-13T18:55:29.487191",
          "exception": false,
          "start_time": "2023-09-13T18:55:29.432353",
          "status": "completed"
        },
        "tags": [],
        "id": "b0167c09"
      },
      "source": [
        "<a id=\"contents_tabel\"></a>    \n",
        "<div style=\"border-radius:10px; padding: 15px; background-color: #ffeacc; font-size:130%; text-align:left\">\n",
        "\n",
        "<h2 align=\"left\"><font color=#ff6200>Table of Contents:</font></h2>\n",
        "    \n",
        "* [Step 1 | Setup and Initialization](#setup)\n",
        "    - [Step 1.1 | Importing Necessary Libraries](#libraries)\n",
        "    - [Step 1.2 | Loading the Dataset](#load_dataset)\n",
        "* [Step 2 | Initial Data Analysis](#initial_analysis)\n",
        "    - [Step 2.1 | Dataset Overview](#overview)\n",
        "    - [Step 2.2 | Summary Statistics](#statistics)\n",
        "* [Step 3 | Data Cleaning & Transformation](#data_cleaning)\n",
        "    - [Step 3.1 | Handling Missing Values](#missing_values)\n",
        "    - [Step 3.2 | Handling Duplicates](#duplicates)\n",
        "    - [Step 3.3 | Treating Cancelled Transactions](#InvoiceNo_cleaning)\n",
        "    - [Step 3.4 | Correcting StockCode Anomalies](#StockCode_cleaning)\n",
        "    - [Step 3.5 | Cleaning Description Column](#Description_cleaning)\n",
        "    - [Step 3.6 | Treating Zero Unit Prices](#UnitPrice_cleaning)\n",
        "    - [Step 3.7 | Outlier Treatment](#outlier_cleaning)"
      ]
    },
    {
      "cell_type": "markdown",
      "id": "546e6474",
      "metadata": {
        "papermill": {
          "duration": 0.059462,
          "end_time": "2023-09-13T18:55:29.374439",
          "exception": false,
          "start_time": "2023-09-13T18:55:29.314977",
          "status": "completed"
        },
        "tags": [],
        "id": "546e6474"
      },
      "source": [
        "<div style=\"border-radius:10px; padding: 15px; background-color: #ffeacc; font-size:130%; text-align:left\">\n",
        "\n",
        "<h2 align=\"left\"><font color=#ff6200>Objectives:</font></h2>\n",
        "\n",
        "\n",
        "- **Data Cleaning & Transformation**: Clean the dataset by handling missing values, duplicates, and outliers, preparing it for effective clustering.\n",
        "\n",
        "    \n",
        "- **Feature Engineering**: Develop new features based on the transactional data to create a customer-centric dataset, setting the foundation for customer segmentation.\n",
        "\n",
        "    \n",
        "- **Data Preprocessing**: Undertake feature scaling and dimensionality reduction to streamline the data, enhancing the efficiency of the clustering process.\n",
        "\n",
        "    \n",
        "- **Customer Segmentation using K-Means Clustering**: Segment customers into distinct groups using K-means, facilitating targeted marketing and personalized strategies.\n",
        "\n",
        "    \n",
        "- **Cluster Analysis & Evaluation**: Analyze and profile each cluster to develop targeted marketing strategies and assess the quality of the clusters formed.\n",
        "\n",
        "    \n",
        "- **Recommendation System**: Implement a system to recommend best-selling products to customers within the same cluster who haven't purchased those products, aiming to boost sales and marketing effectiveness.\n"
      ]
    },
    {
      "cell_type": "markdown",
      "id": "54bff998",
      "metadata": {
        "papermill": {
          "duration": 0.058194,
          "end_time": "2023-09-13T18:55:29.602828",
          "exception": false,
          "start_time": "2023-09-13T18:55:29.544634",
          "status": "completed"
        },
        "tags": [],
        "id": "54bff998"
      },
      "source": [
        "<h2 align=\"left\"><font color=#ff6200>Let's get started:</font></h2>"
      ]
    },
    {
      "cell_type": "markdown",
      "id": "158e6dcc",
      "metadata": {
        "papermill": {
          "duration": 0.055048,
          "end_time": "2023-09-13T18:55:29.713486",
          "exception": false,
          "start_time": "2023-09-13T18:55:29.658438",
          "status": "completed"
        },
        "tags": [],
        "id": "158e6dcc"
      },
      "source": [
        "<a id=\"setup\"></a>\n",
        "# <p style=\"background-color: #ff6200; font-family:calibri; color:white; font-size:140%; font-family:Verdana; text-align:center; border-radius:15px 50px;\">Step 1 | Setup and Initialization</p>\n",
        "⬆️ [Tabel of Contents](#contents_tabel)"
      ]
    },
    {
      "cell_type": "markdown",
      "id": "c4e393a0",
      "metadata": {
        "papermill": {
          "duration": 0.054748,
          "end_time": "2023-09-13T18:55:29.823414",
          "exception": false,
          "start_time": "2023-09-13T18:55:29.768666",
          "status": "completed"
        },
        "tags": [],
        "id": "c4e393a0"
      },
      "source": [
        "<a id=\"libraries\"></a>\n",
        "# <b><span style='color:#fcc36d'>Step 1.1 |</span><span style='color:#ff6200'> Importing Necessary Libraries</span></b>\n",
        "⬆️ [Tabel of Contents](#contents_tabel)"
      ]
    },
    {
      "cell_type": "markdown",
      "id": "b187bc22",
      "metadata": {
        "papermill": {
          "duration": 0.054579,
          "end_time": "2023-09-13T18:55:29.932823",
          "exception": false,
          "start_time": "2023-09-13T18:55:29.878244",
          "status": "completed"
        },
        "tags": [],
        "id": "b187bc22"
      },
      "source": [
        "<div style=\"border-radius:10px; padding: 15px; background-color: #ffeacc; font-size:120%; text-align:left\">\n",
        "    \n",
        "First of all, we will import all the necessary libraries that we will use throughout the project. This generally includes libraries for data manipulation, data visualization, and others based on the specific needs of the project:"
      ]
    },
    {
      "cell_type": "code",
      "execution_count": 1,
      "id": "88c0d4f2",
      "metadata": {
        "execution": {
          "iopub.execute_input": "2023-09-13T18:55:30.045883Z",
          "iopub.status.busy": "2023-09-13T18:55:30.045468Z",
          "iopub.status.idle": "2023-09-13T18:55:33.701518Z",
          "shell.execute_reply": "2023-09-13T18:55:33.699161Z"
        },
        "papermill": {
          "duration": 3.71761,
          "end_time": "2023-09-13T18:55:33.705058",
          "exception": false,
          "start_time": "2023-09-13T18:55:29.987448",
          "status": "completed"
        },
        "tags": [],
        "id": "88c0d4f2"
      },
      "outputs": [],
      "source": [
        "# Ignore warnings\n",
        "import warnings\n",
        "warnings.filterwarnings('ignore')\n",
        "\n",
        "import numpy as np\n",
        "import pandas as pd\n",
        "import seaborn as sns\n",
        "import matplotlib.pyplot as plt\n",
        "import matplotlib.gridspec as gridspec\n",
        "import plotly.graph_objects as go\n",
        "from matplotlib.colors import LinearSegmentedColormap\n",
        "from matplotlib import colors as mcolors\n",
        "from scipy.stats import linregress\n",
        "from sklearn.ensemble import IsolationForest\n",
        "from sklearn.preprocessing import StandardScaler\n",
        "from sklearn.decomposition import PCA\n",
        "from sklearn.metrics import silhouette_score, calinski_harabasz_score, davies_bouldin_score\n",
        "from sklearn.cluster import KMeans\n",
        "from tabulate import tabulate\n",
        "from collections import Counter\n",
        "from yellowbrick.cluster import KElbowVisualizer, SilhouetteVisualizer\n",
        "%matplotlib inline"
      ]
    },
    {
      "cell_type": "code",
      "execution_count": 2,
      "id": "6f2a57e4",
      "metadata": {
        "execution": {
          "iopub.execute_input": "2023-09-13T18:55:33.835541Z",
          "iopub.status.busy": "2023-09-13T18:55:33.834798Z",
          "iopub.status.idle": "2023-09-13T18:55:34.101961Z",
          "shell.execute_reply": "2023-09-13T18:55:34.100644Z"
        },
        "papermill": {
          "duration": 0.326571,
          "end_time": "2023-09-13T18:55:34.104602",
          "exception": false,
          "start_time": "2023-09-13T18:55:33.778031",
          "status": "completed"
        },
        "tags": [],
        "colab": {
          "base_uri": "https://localhost:8080/",
          "height": 17
        },
        "id": "6f2a57e4",
        "outputId": "cb707311-3999-44ee-a4b6-fe8f538ab2be"
      },
      "outputs": [
        {
          "output_type": "display_data",
          "data": {
            "text/html": [
              "        <script type=\"text/javascript\">\n",
              "        window.PlotlyConfig = {MathJaxConfig: 'local'};\n",
              "        if (window.MathJax && window.MathJax.Hub && window.MathJax.Hub.Config) {window.MathJax.Hub.Config({SVG: {font: \"STIX-Web\"}});}\n",
              "        if (typeof require !== 'undefined') {\n",
              "        require.undef(\"plotly\");\n",
              "        requirejs.config({\n",
              "            paths: {\n",
              "                'plotly': ['https://cdn.plot.ly/plotly-2.24.1.min']\n",
              "            }\n",
              "        });\n",
              "        require(['plotly'], function(Plotly) {\n",
              "            window._Plotly = Plotly;\n",
              "        });\n",
              "        }\n",
              "        </script>\n",
              "        "
            ]
          },
          "metadata": {}
        }
      ],
      "source": [
        "# Initialize Plotly for use in the notebook\n",
        "from plotly.offline import init_notebook_mode\n",
        "init_notebook_mode(connected=True)"
      ]
    },
    {
      "cell_type": "code",
      "execution_count": 3,
      "id": "e7f647ef",
      "metadata": {
        "execution": {
          "iopub.execute_input": "2023-09-13T18:55:34.218004Z",
          "iopub.status.busy": "2023-09-13T18:55:34.216856Z",
          "iopub.status.idle": "2023-09-13T18:55:34.223459Z",
          "shell.execute_reply": "2023-09-13T18:55:34.222527Z"
        },
        "papermill": {
          "duration": 0.065754,
          "end_time": "2023-09-13T18:55:34.225966",
          "exception": false,
          "start_time": "2023-09-13T18:55:34.160212",
          "status": "completed"
        },
        "tags": [],
        "id": "e7f647ef"
      },
      "outputs": [],
      "source": [
        "# Configure Seaborn plot styles: Set background color and use dark grid\n",
        "sns.set(rc={'axes.facecolor': '#fcf0dc'}, style='darkgrid')"
      ]
    },
    {
      "cell_type": "markdown",
      "id": "1859bfb9",
      "metadata": {
        "papermill": {
          "duration": 0.05608,
          "end_time": "2023-09-13T18:55:34.336948",
          "exception": false,
          "start_time": "2023-09-13T18:55:34.280868",
          "status": "completed"
        },
        "tags": [],
        "id": "1859bfb9"
      },
      "source": [
        "<a id=\"load_dataset\"></a>\n",
        "# <b><span style='color:#fcc36d'>Step 1.2 |</span><span style='color:#ff6200'> Loading the Dataset</span></b>\n",
        "⬆️ [Tabel of Contents](#contents_tabel)"
      ]
    },
    {
      "cell_type": "markdown",
      "id": "37684594",
      "metadata": {
        "papermill": {
          "duration": 0.055541,
          "end_time": "2023-09-13T18:55:34.447416",
          "exception": false,
          "start_time": "2023-09-13T18:55:34.391875",
          "status": "completed"
        },
        "tags": [],
        "id": "37684594"
      },
      "source": [
        "<div style=\"border-radius:10px; padding: 15px; background-color: #ffeacc; font-size:120%; text-align:left\">\n",
        "    \n",
        "Next, we will load the dataset into a pandas DataFrame which will facilitate easy manipulation and analysis:"
      ]
    },
    {
      "cell_type": "code",
      "execution_count": 5,
      "id": "baaa0be4",
      "metadata": {
        "execution": {
          "iopub.execute_input": "2023-09-13T18:55:34.563857Z",
          "iopub.status.busy": "2023-09-13T18:55:34.562725Z",
          "iopub.status.idle": "2023-09-13T18:55:36.314527Z",
          "shell.execute_reply": "2023-09-13T18:55:36.312902Z"
        },
        "papermill": {
          "duration": 1.815595,
          "end_time": "2023-09-13T18:55:36.317782",
          "exception": false,
          "start_time": "2023-09-13T18:55:34.502187",
          "status": "completed"
        },
        "tags": [],
        "id": "baaa0be4"
      },
      "outputs": [],
      "source": [
        "df = pd.read_csv('/content/customer_data_internship.csv', encoding=\"ISO-8859-1\")"
      ]
    },
    {
      "cell_type": "markdown",
      "id": "53887068",
      "metadata": {
        "papermill": {
          "duration": 0.055908,
          "end_time": "2023-09-13T18:55:36.429299",
          "exception": false,
          "start_time": "2023-09-13T18:55:36.373391",
          "status": "completed"
        },
        "tags": [],
        "id": "53887068"
      },
      "source": [
        "<div style=\"border-radius:10px; padding: 15px; background-color: #ffeacc; font-size:130%; text-align:left\">\n",
        "\n",
        "<h2 align=\"left\"><font color=#ff6200>Dataset Description:</font></h2>\n",
        "\n",
        "| __Variable__   | __Description__ |\n",
        "|     :---       |       :---      |      \n",
        "| __InvoiceNo__  | Code representing each unique transaction.  If this code starts with letter 'c', it indicates a cancellation. |\n",
        "| __StockCode__  | Code uniquely assigned to each distinct product. |\n",
        "| __Description__| Description of each product. |\n",
        "| __Quantity__   | The number of units of a product in a transaction. |\n",
        "| __InvoiceDate__| The date and time of the transaction. |\n",
        "| __UnitPrice__  | The unit price of the product in sterling. |\n",
        "| __CustomerID__ | Identifier uniquely assigned to each customer. |\n",
        "| __Country__    | The country of the customer. |\n"
      ]
    },
    {
      "cell_type": "markdown",
      "id": "e275d113",
      "metadata": {
        "papermill": {
          "duration": 0.05478,
          "end_time": "2023-09-13T18:55:36.539387",
          "exception": false,
          "start_time": "2023-09-13T18:55:36.484607",
          "status": "completed"
        },
        "tags": [],
        "id": "e275d113"
      },
      "source": [
        "<a id=\"initial_analysis\"></a>\n",
        "# <p style=\"background-color: #ff6200; font-family:calibri; color:white; font-size:140%; font-family:Verdana; text-align:center; border-radius:15px 50px;\">Step 2 | Initial Data Analysis</p>\n",
        "⬆️ [Tabel of Contents](#contents_tabel)"
      ]
    },
    {
      "cell_type": "markdown",
      "id": "321c88dc",
      "metadata": {
        "papermill": {
          "duration": 0.055637,
          "end_time": "2023-09-13T18:55:36.654099",
          "exception": false,
          "start_time": "2023-09-13T18:55:36.598462",
          "status": "completed"
        },
        "tags": [],
        "id": "321c88dc"
      },
      "source": [
        "<div style=\"border-radius:10px; padding: 15px; background-color: #ffeacc; font-size:120%; text-align:left\">\n",
        "    \n",
        "Afterward, we are going to gain a thorough understanding of the dataset before proceeding to the data cleaning and transformation stages."
      ]
    },
    {
      "cell_type": "markdown",
      "id": "dc056c8f",
      "metadata": {
        "papermill": {
          "duration": 0.054688,
          "end_time": "2023-09-13T18:55:36.764128",
          "exception": false,
          "start_time": "2023-09-13T18:55:36.709440",
          "status": "completed"
        },
        "tags": [],
        "id": "dc056c8f"
      },
      "source": [
        "<a id=\"overview\"></a>\n",
        "# <b><span style='color:#fcc36d'>Step 2.1 |</span><span style='color:#ff6200'> Dataset Overview</span></b>\n",
        "⬆️ [Tabel of Contents](#contents_tabel)"
      ]
    },
    {
      "cell_type": "markdown",
      "id": "33b2c029",
      "metadata": {
        "papermill": {
          "duration": 0.056899,
          "end_time": "2023-09-13T18:55:36.876789",
          "exception": false,
          "start_time": "2023-09-13T18:55:36.819890",
          "status": "completed"
        },
        "tags": [],
        "id": "33b2c029"
      },
      "source": [
        "<div style=\"border-radius:10px; padding: 15px; background-color: #ffeacc; font-size:120%; text-align:left\">\n",
        "\n",
        "First we will perform a preliminary analysis to understand the structure and types of data columns:"
      ]
    },
    {
      "cell_type": "code",
      "execution_count": 6,
      "id": "4cec4265",
      "metadata": {
        "execution": {
          "iopub.execute_input": "2023-09-13T18:55:36.990952Z",
          "iopub.status.busy": "2023-09-13T18:55:36.990507Z",
          "iopub.status.idle": "2023-09-13T18:55:37.028503Z",
          "shell.execute_reply": "2023-09-13T18:55:37.026858Z"
        },
        "papermill": {
          "duration": 0.098838,
          "end_time": "2023-09-13T18:55:37.031877",
          "exception": false,
          "start_time": "2023-09-13T18:55:36.933039",
          "status": "completed"
        },
        "scrolled": true,
        "tags": [],
        "colab": {
          "base_uri": "https://localhost:8080/",
          "height": 1000
        },
        "id": "4cec4265",
        "outputId": "bd82b098-4368-44a3-a0f1-18eb97aaf7d1"
      },
      "outputs": [
        {
          "output_type": "execute_result",
          "data": {
            "text/plain": [
              "   InvoiceNo StockCode                          Description  Quantity  \\\n",
              "0     536365    85123A   WHITE HANGING HEART T-LIGHT HOLDER       6.0   \n",
              "1     536365     71053                  WHITE METAL LANTERN       6.0   \n",
              "2     536365    84406B       CREAM CUPID HEARTS COAT HANGER       8.0   \n",
              "3     536365    84029G  KNITTED UNION FLAG HOT WATER BOTTLE       6.0   \n",
              "4     536365    84029E       RED WOOLLY HOTTIE WHITE HEART.       6.0   \n",
              "5     536365     22752         SET 7 BABUSHKA NESTING BOXES       2.0   \n",
              "6     536365     21730    GLASS STAR FROSTED T-LIGHT HOLDER       6.0   \n",
              "7     536366     22633               HAND WARMER UNION JACK       6.0   \n",
              "8     536366     22632            HAND WARMER RED POLKA DOT       6.0   \n",
              "9     536367     84879        ASSORTED COLOUR BIRD ORNAMENT      32.0   \n",
              "10    536367     22745           POPPY'S PLAYHOUSE BEDROOM        6.0   \n",
              "11    536367     22748            POPPY'S PLAYHOUSE KITCHEN       6.0   \n",
              "12    536367     22749    FELTCRAFT PRINCESS CHARLOTTE DOLL       8.0   \n",
              "13    536367     22310              IVORY KNITTED MUG COSY        6.0   \n",
              "14    536367     84969   BOX OF 6 ASSORTED COLOUR TEASPOONS       6.0   \n",
              "15    536367     22623        BOX OF VINTAGE JIGSAW BLOCKS        3.0   \n",
              "16    536367     22622       BOX OF VINTAGE ALPHABET BLOCKS       2.0   \n",
              "17    536367     21754             HOME BUILDING BLOCK WORD       3.0   \n",
              "18    536367     21755             LOVE BUILDING BLOCK WORD       3.0   \n",
              "19    536367     21777          RECIPE BOX WITH METAL HEART       4.0   \n",
              "\n",
              "       InvoiceDate  UnitPrice  CustomerID         Country  \n",
              "0   12/1/2010 8:26       2.55     17850.0  United Kingdom  \n",
              "1   12/1/2010 8:26       3.39     17850.0  United Kingdom  \n",
              "2   12/1/2010 8:26       2.75     17850.0  United Kingdom  \n",
              "3   12/1/2010 8:26       3.39     17850.0  United Kingdom  \n",
              "4   12/1/2010 8:26       3.39     17850.0  United Kingdom  \n",
              "5   12/1/2010 8:26       7.65     17850.0  United Kingdom  \n",
              "6   12/1/2010 8:26       4.25     17850.0  United Kingdom  \n",
              "7   12/1/2010 8:28       1.85     17850.0  United Kingdom  \n",
              "8   12/1/2010 8:28       1.85     17850.0  United Kingdom  \n",
              "9   12/1/2010 8:34       1.69     13047.0  United Kingdom  \n",
              "10  12/1/2010 8:34       2.10     13047.0  United Kingdom  \n",
              "11  12/1/2010 8:34       2.10     13047.0  United Kingdom  \n",
              "12  12/1/2010 8:34       3.75     13047.0  United Kingdom  \n",
              "13  12/1/2010 8:34       1.65     13047.0  United Kingdom  \n",
              "14  12/1/2010 8:34       4.25     13047.0  United Kingdom  \n",
              "15  12/1/2010 8:34       4.95     13047.0  United Kingdom  \n",
              "16  12/1/2010 8:34       9.95     13047.0  United Kingdom  \n",
              "17  12/1/2010 8:34       5.95     13047.0  United Kingdom  \n",
              "18  12/1/2010 8:34       5.95     13047.0  United Kingdom  \n",
              "19  12/1/2010 8:34       7.95     13047.0  United Kingdom  "
            ],
            "text/html": [
              "\n",
              "  <div id=\"df-e2dec578-72a4-406c-9ddc-c33e2eff2028\" class=\"colab-df-container\">\n",
              "    <div>\n",
              "<style scoped>\n",
              "    .dataframe tbody tr th:only-of-type {\n",
              "        vertical-align: middle;\n",
              "    }\n",
              "\n",
              "    .dataframe tbody tr th {\n",
              "        vertical-align: top;\n",
              "    }\n",
              "\n",
              "    .dataframe thead th {\n",
              "        text-align: right;\n",
              "    }\n",
              "</style>\n",
              "<table border=\"1\" class=\"dataframe\">\n",
              "  <thead>\n",
              "    <tr style=\"text-align: right;\">\n",
              "      <th></th>\n",
              "      <th>InvoiceNo</th>\n",
              "      <th>StockCode</th>\n",
              "      <th>Description</th>\n",
              "      <th>Quantity</th>\n",
              "      <th>InvoiceDate</th>\n",
              "      <th>UnitPrice</th>\n",
              "      <th>CustomerID</th>\n",
              "      <th>Country</th>\n",
              "    </tr>\n",
              "  </thead>\n",
              "  <tbody>\n",
              "    <tr>\n",
              "      <th>0</th>\n",
              "      <td>536365</td>\n",
              "      <td>85123A</td>\n",
              "      <td>WHITE HANGING HEART T-LIGHT HOLDER</td>\n",
              "      <td>6.0</td>\n",
              "      <td>12/1/2010 8:26</td>\n",
              "      <td>2.55</td>\n",
              "      <td>17850.0</td>\n",
              "      <td>United Kingdom</td>\n",
              "    </tr>\n",
              "    <tr>\n",
              "      <th>1</th>\n",
              "      <td>536365</td>\n",
              "      <td>71053</td>\n",
              "      <td>WHITE METAL LANTERN</td>\n",
              "      <td>6.0</td>\n",
              "      <td>12/1/2010 8:26</td>\n",
              "      <td>3.39</td>\n",
              "      <td>17850.0</td>\n",
              "      <td>United Kingdom</td>\n",
              "    </tr>\n",
              "    <tr>\n",
              "      <th>2</th>\n",
              "      <td>536365</td>\n",
              "      <td>84406B</td>\n",
              "      <td>CREAM CUPID HEARTS COAT HANGER</td>\n",
              "      <td>8.0</td>\n",
              "      <td>12/1/2010 8:26</td>\n",
              "      <td>2.75</td>\n",
              "      <td>17850.0</td>\n",
              "      <td>United Kingdom</td>\n",
              "    </tr>\n",
              "    <tr>\n",
              "      <th>3</th>\n",
              "      <td>536365</td>\n",
              "      <td>84029G</td>\n",
              "      <td>KNITTED UNION FLAG HOT WATER BOTTLE</td>\n",
              "      <td>6.0</td>\n",
              "      <td>12/1/2010 8:26</td>\n",
              "      <td>3.39</td>\n",
              "      <td>17850.0</td>\n",
              "      <td>United Kingdom</td>\n",
              "    </tr>\n",
              "    <tr>\n",
              "      <th>4</th>\n",
              "      <td>536365</td>\n",
              "      <td>84029E</td>\n",
              "      <td>RED WOOLLY HOTTIE WHITE HEART.</td>\n",
              "      <td>6.0</td>\n",
              "      <td>12/1/2010 8:26</td>\n",
              "      <td>3.39</td>\n",
              "      <td>17850.0</td>\n",
              "      <td>United Kingdom</td>\n",
              "    </tr>\n",
              "    <tr>\n",
              "      <th>5</th>\n",
              "      <td>536365</td>\n",
              "      <td>22752</td>\n",
              "      <td>SET 7 BABUSHKA NESTING BOXES</td>\n",
              "      <td>2.0</td>\n",
              "      <td>12/1/2010 8:26</td>\n",
              "      <td>7.65</td>\n",
              "      <td>17850.0</td>\n",
              "      <td>United Kingdom</td>\n",
              "    </tr>\n",
              "    <tr>\n",
              "      <th>6</th>\n",
              "      <td>536365</td>\n",
              "      <td>21730</td>\n",
              "      <td>GLASS STAR FROSTED T-LIGHT HOLDER</td>\n",
              "      <td>6.0</td>\n",
              "      <td>12/1/2010 8:26</td>\n",
              "      <td>4.25</td>\n",
              "      <td>17850.0</td>\n",
              "      <td>United Kingdom</td>\n",
              "    </tr>\n",
              "    <tr>\n",
              "      <th>7</th>\n",
              "      <td>536366</td>\n",
              "      <td>22633</td>\n",
              "      <td>HAND WARMER UNION JACK</td>\n",
              "      <td>6.0</td>\n",
              "      <td>12/1/2010 8:28</td>\n",
              "      <td>1.85</td>\n",
              "      <td>17850.0</td>\n",
              "      <td>United Kingdom</td>\n",
              "    </tr>\n",
              "    <tr>\n",
              "      <th>8</th>\n",
              "      <td>536366</td>\n",
              "      <td>22632</td>\n",
              "      <td>HAND WARMER RED POLKA DOT</td>\n",
              "      <td>6.0</td>\n",
              "      <td>12/1/2010 8:28</td>\n",
              "      <td>1.85</td>\n",
              "      <td>17850.0</td>\n",
              "      <td>United Kingdom</td>\n",
              "    </tr>\n",
              "    <tr>\n",
              "      <th>9</th>\n",
              "      <td>536367</td>\n",
              "      <td>84879</td>\n",
              "      <td>ASSORTED COLOUR BIRD ORNAMENT</td>\n",
              "      <td>32.0</td>\n",
              "      <td>12/1/2010 8:34</td>\n",
              "      <td>1.69</td>\n",
              "      <td>13047.0</td>\n",
              "      <td>United Kingdom</td>\n",
              "    </tr>\n",
              "    <tr>\n",
              "      <th>10</th>\n",
              "      <td>536367</td>\n",
              "      <td>22745</td>\n",
              "      <td>POPPY'S PLAYHOUSE BEDROOM</td>\n",
              "      <td>6.0</td>\n",
              "      <td>12/1/2010 8:34</td>\n",
              "      <td>2.10</td>\n",
              "      <td>13047.0</td>\n",
              "      <td>United Kingdom</td>\n",
              "    </tr>\n",
              "    <tr>\n",
              "      <th>11</th>\n",
              "      <td>536367</td>\n",
              "      <td>22748</td>\n",
              "      <td>POPPY'S PLAYHOUSE KITCHEN</td>\n",
              "      <td>6.0</td>\n",
              "      <td>12/1/2010 8:34</td>\n",
              "      <td>2.10</td>\n",
              "      <td>13047.0</td>\n",
              "      <td>United Kingdom</td>\n",
              "    </tr>\n",
              "    <tr>\n",
              "      <th>12</th>\n",
              "      <td>536367</td>\n",
              "      <td>22749</td>\n",
              "      <td>FELTCRAFT PRINCESS CHARLOTTE DOLL</td>\n",
              "      <td>8.0</td>\n",
              "      <td>12/1/2010 8:34</td>\n",
              "      <td>3.75</td>\n",
              "      <td>13047.0</td>\n",
              "      <td>United Kingdom</td>\n",
              "    </tr>\n",
              "    <tr>\n",
              "      <th>13</th>\n",
              "      <td>536367</td>\n",
              "      <td>22310</td>\n",
              "      <td>IVORY KNITTED MUG COSY</td>\n",
              "      <td>6.0</td>\n",
              "      <td>12/1/2010 8:34</td>\n",
              "      <td>1.65</td>\n",
              "      <td>13047.0</td>\n",
              "      <td>United Kingdom</td>\n",
              "    </tr>\n",
              "    <tr>\n",
              "      <th>14</th>\n",
              "      <td>536367</td>\n",
              "      <td>84969</td>\n",
              "      <td>BOX OF 6 ASSORTED COLOUR TEASPOONS</td>\n",
              "      <td>6.0</td>\n",
              "      <td>12/1/2010 8:34</td>\n",
              "      <td>4.25</td>\n",
              "      <td>13047.0</td>\n",
              "      <td>United Kingdom</td>\n",
              "    </tr>\n",
              "    <tr>\n",
              "      <th>15</th>\n",
              "      <td>536367</td>\n",
              "      <td>22623</td>\n",
              "      <td>BOX OF VINTAGE JIGSAW BLOCKS</td>\n",
              "      <td>3.0</td>\n",
              "      <td>12/1/2010 8:34</td>\n",
              "      <td>4.95</td>\n",
              "      <td>13047.0</td>\n",
              "      <td>United Kingdom</td>\n",
              "    </tr>\n",
              "    <tr>\n",
              "      <th>16</th>\n",
              "      <td>536367</td>\n",
              "      <td>22622</td>\n",
              "      <td>BOX OF VINTAGE ALPHABET BLOCKS</td>\n",
              "      <td>2.0</td>\n",
              "      <td>12/1/2010 8:34</td>\n",
              "      <td>9.95</td>\n",
              "      <td>13047.0</td>\n",
              "      <td>United Kingdom</td>\n",
              "    </tr>\n",
              "    <tr>\n",
              "      <th>17</th>\n",
              "      <td>536367</td>\n",
              "      <td>21754</td>\n",
              "      <td>HOME BUILDING BLOCK WORD</td>\n",
              "      <td>3.0</td>\n",
              "      <td>12/1/2010 8:34</td>\n",
              "      <td>5.95</td>\n",
              "      <td>13047.0</td>\n",
              "      <td>United Kingdom</td>\n",
              "    </tr>\n",
              "    <tr>\n",
              "      <th>18</th>\n",
              "      <td>536367</td>\n",
              "      <td>21755</td>\n",
              "      <td>LOVE BUILDING BLOCK WORD</td>\n",
              "      <td>3.0</td>\n",
              "      <td>12/1/2010 8:34</td>\n",
              "      <td>5.95</td>\n",
              "      <td>13047.0</td>\n",
              "      <td>United Kingdom</td>\n",
              "    </tr>\n",
              "    <tr>\n",
              "      <th>19</th>\n",
              "      <td>536367</td>\n",
              "      <td>21777</td>\n",
              "      <td>RECIPE BOX WITH METAL HEART</td>\n",
              "      <td>4.0</td>\n",
              "      <td>12/1/2010 8:34</td>\n",
              "      <td>7.95</td>\n",
              "      <td>13047.0</td>\n",
              "      <td>United Kingdom</td>\n",
              "    </tr>\n",
              "  </tbody>\n",
              "</table>\n",
              "</div>\n",
              "    <div class=\"colab-df-buttons\">\n",
              "\n",
              "  <div class=\"colab-df-container\">\n",
              "    <button class=\"colab-df-convert\" onclick=\"convertToInteractive('df-e2dec578-72a4-406c-9ddc-c33e2eff2028')\"\n",
              "            title=\"Convert this dataframe to an interactive table.\"\n",
              "            style=\"display:none;\">\n",
              "\n",
              "  <svg xmlns=\"http://www.w3.org/2000/svg\" height=\"24px\" viewBox=\"0 -960 960 960\">\n",
              "    <path d=\"M120-120v-720h720v720H120Zm60-500h600v-160H180v160Zm220 220h160v-160H400v160Zm0 220h160v-160H400v160ZM180-400h160v-160H180v160Zm440 0h160v-160H620v160ZM180-180h160v-160H180v160Zm440 0h160v-160H620v160Z\"/>\n",
              "  </svg>\n",
              "    </button>\n",
              "\n",
              "  <style>\n",
              "    .colab-df-container {\n",
              "      display:flex;\n",
              "      gap: 12px;\n",
              "    }\n",
              "\n",
              "    .colab-df-convert {\n",
              "      background-color: #E8F0FE;\n",
              "      border: none;\n",
              "      border-radius: 50%;\n",
              "      cursor: pointer;\n",
              "      display: none;\n",
              "      fill: #1967D2;\n",
              "      height: 32px;\n",
              "      padding: 0 0 0 0;\n",
              "      width: 32px;\n",
              "    }\n",
              "\n",
              "    .colab-df-convert:hover {\n",
              "      background-color: #E2EBFA;\n",
              "      box-shadow: 0px 1px 2px rgba(60, 64, 67, 0.3), 0px 1px 3px 1px rgba(60, 64, 67, 0.15);\n",
              "      fill: #174EA6;\n",
              "    }\n",
              "\n",
              "    .colab-df-buttons div {\n",
              "      margin-bottom: 4px;\n",
              "    }\n",
              "\n",
              "    [theme=dark] .colab-df-convert {\n",
              "      background-color: #3B4455;\n",
              "      fill: #D2E3FC;\n",
              "    }\n",
              "\n",
              "    [theme=dark] .colab-df-convert:hover {\n",
              "      background-color: #434B5C;\n",
              "      box-shadow: 0px 1px 3px 1px rgba(0, 0, 0, 0.15);\n",
              "      filter: drop-shadow(0px 1px 2px rgba(0, 0, 0, 0.3));\n",
              "      fill: #FFFFFF;\n",
              "    }\n",
              "  </style>\n",
              "\n",
              "    <script>\n",
              "      const buttonEl =\n",
              "        document.querySelector('#df-e2dec578-72a4-406c-9ddc-c33e2eff2028 button.colab-df-convert');\n",
              "      buttonEl.style.display =\n",
              "        google.colab.kernel.accessAllowed ? 'block' : 'none';\n",
              "\n",
              "      async function convertToInteractive(key) {\n",
              "        const element = document.querySelector('#df-e2dec578-72a4-406c-9ddc-c33e2eff2028');\n",
              "        const dataTable =\n",
              "          await google.colab.kernel.invokeFunction('convertToInteractive',\n",
              "                                                    [key], {});\n",
              "        if (!dataTable) return;\n",
              "\n",
              "        const docLinkHtml = 'Like what you see? Visit the ' +\n",
              "          '<a target=\"_blank\" href=https://colab.research.google.com/notebooks/data_table.ipynb>data table notebook</a>'\n",
              "          + ' to learn more about interactive tables.';\n",
              "        element.innerHTML = '';\n",
              "        dataTable['output_type'] = 'display_data';\n",
              "        await google.colab.output.renderOutput(dataTable, element);\n",
              "        const docLink = document.createElement('div');\n",
              "        docLink.innerHTML = docLinkHtml;\n",
              "        element.appendChild(docLink);\n",
              "      }\n",
              "    </script>\n",
              "  </div>\n",
              "\n",
              "\n",
              "<div id=\"df-b6287e79-3cfa-447e-9022-829f11c8763e\">\n",
              "  <button class=\"colab-df-quickchart\" onclick=\"quickchart('df-b6287e79-3cfa-447e-9022-829f11c8763e')\"\n",
              "            title=\"Suggest charts\"\n",
              "            style=\"display:none;\">\n",
              "\n",
              "<svg xmlns=\"http://www.w3.org/2000/svg\" height=\"24px\"viewBox=\"0 0 24 24\"\n",
              "     width=\"24px\">\n",
              "    <g>\n",
              "        <path d=\"M19 3H5c-1.1 0-2 .9-2 2v14c0 1.1.9 2 2 2h14c1.1 0 2-.9 2-2V5c0-1.1-.9-2-2-2zM9 17H7v-7h2v7zm4 0h-2V7h2v10zm4 0h-2v-4h2v4z\"/>\n",
              "    </g>\n",
              "</svg>\n",
              "  </button>\n",
              "\n",
              "<style>\n",
              "  .colab-df-quickchart {\n",
              "      --bg-color: #E8F0FE;\n",
              "      --fill-color: #1967D2;\n",
              "      --hover-bg-color: #E2EBFA;\n",
              "      --hover-fill-color: #174EA6;\n",
              "      --disabled-fill-color: #AAA;\n",
              "      --disabled-bg-color: #DDD;\n",
              "  }\n",
              "\n",
              "  [theme=dark] .colab-df-quickchart {\n",
              "      --bg-color: #3B4455;\n",
              "      --fill-color: #D2E3FC;\n",
              "      --hover-bg-color: #434B5C;\n",
              "      --hover-fill-color: #FFFFFF;\n",
              "      --disabled-bg-color: #3B4455;\n",
              "      --disabled-fill-color: #666;\n",
              "  }\n",
              "\n",
              "  .colab-df-quickchart {\n",
              "    background-color: var(--bg-color);\n",
              "    border: none;\n",
              "    border-radius: 50%;\n",
              "    cursor: pointer;\n",
              "    display: none;\n",
              "    fill: var(--fill-color);\n",
              "    height: 32px;\n",
              "    padding: 0;\n",
              "    width: 32px;\n",
              "  }\n",
              "\n",
              "  .colab-df-quickchart:hover {\n",
              "    background-color: var(--hover-bg-color);\n",
              "    box-shadow: 0 1px 2px rgba(60, 64, 67, 0.3), 0 1px 3px 1px rgba(60, 64, 67, 0.15);\n",
              "    fill: var(--button-hover-fill-color);\n",
              "  }\n",
              "\n",
              "  .colab-df-quickchart-complete:disabled,\n",
              "  .colab-df-quickchart-complete:disabled:hover {\n",
              "    background-color: var(--disabled-bg-color);\n",
              "    fill: var(--disabled-fill-color);\n",
              "    box-shadow: none;\n",
              "  }\n",
              "\n",
              "  .colab-df-spinner {\n",
              "    border: 2px solid var(--fill-color);\n",
              "    border-color: transparent;\n",
              "    border-bottom-color: var(--fill-color);\n",
              "    animation:\n",
              "      spin 1s steps(1) infinite;\n",
              "  }\n",
              "\n",
              "  @keyframes spin {\n",
              "    0% {\n",
              "      border-color: transparent;\n",
              "      border-bottom-color: var(--fill-color);\n",
              "      border-left-color: var(--fill-color);\n",
              "    }\n",
              "    20% {\n",
              "      border-color: transparent;\n",
              "      border-left-color: var(--fill-color);\n",
              "      border-top-color: var(--fill-color);\n",
              "    }\n",
              "    30% {\n",
              "      border-color: transparent;\n",
              "      border-left-color: var(--fill-color);\n",
              "      border-top-color: var(--fill-color);\n",
              "      border-right-color: var(--fill-color);\n",
              "    }\n",
              "    40% {\n",
              "      border-color: transparent;\n",
              "      border-right-color: var(--fill-color);\n",
              "      border-top-color: var(--fill-color);\n",
              "    }\n",
              "    60% {\n",
              "      border-color: transparent;\n",
              "      border-right-color: var(--fill-color);\n",
              "    }\n",
              "    80% {\n",
              "      border-color: transparent;\n",
              "      border-right-color: var(--fill-color);\n",
              "      border-bottom-color: var(--fill-color);\n",
              "    }\n",
              "    90% {\n",
              "      border-color: transparent;\n",
              "      border-bottom-color: var(--fill-color);\n",
              "    }\n",
              "  }\n",
              "</style>\n",
              "\n",
              "  <script>\n",
              "    async function quickchart(key) {\n",
              "      const quickchartButtonEl =\n",
              "        document.querySelector('#' + key + ' button');\n",
              "      quickchartButtonEl.disabled = true;  // To prevent multiple clicks.\n",
              "      quickchartButtonEl.classList.add('colab-df-spinner');\n",
              "      try {\n",
              "        const charts = await google.colab.kernel.invokeFunction(\n",
              "            'suggestCharts', [key], {});\n",
              "      } catch (error) {\n",
              "        console.error('Error during call to suggestCharts:', error);\n",
              "      }\n",
              "      quickchartButtonEl.classList.remove('colab-df-spinner');\n",
              "      quickchartButtonEl.classList.add('colab-df-quickchart-complete');\n",
              "    }\n",
              "    (() => {\n",
              "      let quickchartButtonEl =\n",
              "        document.querySelector('#df-b6287e79-3cfa-447e-9022-829f11c8763e button');\n",
              "      quickchartButtonEl.style.display =\n",
              "        google.colab.kernel.accessAllowed ? 'block' : 'none';\n",
              "    })();\n",
              "  </script>\n",
              "</div>\n",
              "\n",
              "    </div>\n",
              "  </div>\n"
            ],
            "application/vnd.google.colaboratory.intrinsic+json": {
              "type": "dataframe",
              "variable_name": "df"
            }
          },
          "metadata": {},
          "execution_count": 6
        }
      ],
      "source": [
        "df.head(20)"
      ]
    },
    {
      "cell_type": "code",
      "execution_count": 7,
      "id": "d408d719",
      "metadata": {
        "execution": {
          "iopub.execute_input": "2023-09-13T18:55:37.146324Z",
          "iopub.status.busy": "2023-09-13T18:55:37.144933Z",
          "iopub.status.idle": "2023-09-13T18:55:37.452307Z",
          "shell.execute_reply": "2023-09-13T18:55:37.450632Z"
        },
        "papermill": {
          "duration": 0.367369,
          "end_time": "2023-09-13T18:55:37.454997",
          "exception": false,
          "start_time": "2023-09-13T18:55:37.087628",
          "status": "completed"
        },
        "tags": [],
        "colab": {
          "base_uri": "https://localhost:8080/"
        },
        "id": "d408d719",
        "outputId": "fc190fd3-3312-4a59-f675-680cb3643c7f"
      },
      "outputs": [
        {
          "output_type": "stream",
          "name": "stdout",
          "text": [
            "<class 'pandas.core.frame.DataFrame'>\n",
            "RangeIndex: 326401 entries, 0 to 326400\n",
            "Data columns (total 8 columns):\n",
            " #   Column       Non-Null Count   Dtype  \n",
            "---  ------       --------------   -----  \n",
            " 0   InvoiceNo    326401 non-null  object \n",
            " 1   StockCode    326401 non-null  object \n",
            " 2   Description  325231 non-null  object \n",
            " 3   Quantity     326400 non-null  float64\n",
            " 4   InvoiceDate  326400 non-null  object \n",
            " 5   UnitPrice    326400 non-null  float64\n",
            " 6   CustomerID   236490 non-null  float64\n",
            " 7   Country      326400 non-null  object \n",
            "dtypes: float64(3), object(5)\n",
            "memory usage: 19.9+ MB\n"
          ]
        }
      ],
      "source": [
        "df.info()"
      ]
    },
    {
      "cell_type": "markdown",
      "id": "6f2947d7",
      "metadata": {
        "papermill": {
          "duration": 0.056558,
          "end_time": "2023-09-13T18:55:37.566435",
          "exception": false,
          "start_time": "2023-09-13T18:55:37.509877",
          "status": "completed"
        },
        "tags": [],
        "id": "6f2947d7"
      },
      "source": [
        "<div style=\"border-radius:10px; padding: 15px; background-color: #ffeacc; font-size:120%; text-align:left\">\n",
        "<h3 align=\"left\"><font color=#ff6200>Inferences:</font></h3>\n",
        "    \n",
        "Write your inferences here"
      ]
    },
    {
      "cell_type": "markdown",
      "id": "5606eacb",
      "metadata": {
        "papermill": {
          "duration": 0.057565,
          "end_time": "2023-09-13T18:55:37.681334",
          "exception": false,
          "start_time": "2023-09-13T18:55:37.623769",
          "status": "completed"
        },
        "tags": [],
        "id": "5606eacb"
      },
      "source": [
        "<a id=\"statistics\"></a>\n",
        "# <b><span style='color:#fcc36d'>Step 2.2 |</span><span style='color:#ff6200'> Summary Statistics</span></b>\n",
        "⬆️ [Tabel of Contents](#contents_tabel)"
      ]
    },
    {
      "cell_type": "markdown",
      "id": "a4b3d6d9",
      "metadata": {
        "papermill": {
          "duration": 0.056226,
          "end_time": "2023-09-13T18:55:37.795485",
          "exception": false,
          "start_time": "2023-09-13T18:55:37.739259",
          "status": "completed"
        },
        "tags": [],
        "id": "a4b3d6d9"
      },
      "source": [
        "<div style=\"border-radius:10px; padding: 15px; background-color: #ffeacc; font-size:120%; text-align:left\">\n",
        "    \n",
        "Now, we are going to generate summary statistics to gain initial insights into the data distribution:"
      ]
    },
    {
      "cell_type": "code",
      "execution_count": 8,
      "id": "e4fa41f6",
      "metadata": {
        "execution": {
          "iopub.execute_input": "2023-09-13T18:55:37.912313Z",
          "iopub.status.busy": "2023-09-13T18:55:37.911775Z",
          "iopub.status.idle": "2023-09-13T18:55:38.026234Z",
          "shell.execute_reply": "2023-09-13T18:55:38.024352Z"
        },
        "papermill": {
          "duration": 0.177485,
          "end_time": "2023-09-13T18:55:38.029051",
          "exception": false,
          "start_time": "2023-09-13T18:55:37.851566",
          "status": "completed"
        },
        "tags": [],
        "colab": {
          "base_uri": "https://localhost:8080/",
          "height": 163
        },
        "id": "e4fa41f6",
        "outputId": "5827252b-5ba2-40d0-ecf4-d6702340910c"
      },
      "outputs": [
        {
          "output_type": "execute_result",
          "data": {
            "text/plain": [
              "               count          mean          std       min       25%      50%  \\\n",
              "Quantity    326400.0      9.659994   192.722022 -74215.00      1.00      3.0   \n",
              "UnitPrice   326400.0      4.886140   112.407209 -11062.06      1.25      2.1   \n",
              "CustomerID  236490.0  15278.241448  1726.032982  12346.00  13862.00  15150.0   \n",
              "\n",
              "                 75%      max  \n",
              "Quantity       10.00  74215.0  \n",
              "UnitPrice       4.13  38970.0  \n",
              "CustomerID  16809.00  18287.0  "
            ],
            "text/html": [
              "\n",
              "  <div id=\"df-a2532da1-b2c1-424c-b025-8e38f5c0ab95\" class=\"colab-df-container\">\n",
              "    <div>\n",
              "<style scoped>\n",
              "    .dataframe tbody tr th:only-of-type {\n",
              "        vertical-align: middle;\n",
              "    }\n",
              "\n",
              "    .dataframe tbody tr th {\n",
              "        vertical-align: top;\n",
              "    }\n",
              "\n",
              "    .dataframe thead th {\n",
              "        text-align: right;\n",
              "    }\n",
              "</style>\n",
              "<table border=\"1\" class=\"dataframe\">\n",
              "  <thead>\n",
              "    <tr style=\"text-align: right;\">\n",
              "      <th></th>\n",
              "      <th>count</th>\n",
              "      <th>mean</th>\n",
              "      <th>std</th>\n",
              "      <th>min</th>\n",
              "      <th>25%</th>\n",
              "      <th>50%</th>\n",
              "      <th>75%</th>\n",
              "      <th>max</th>\n",
              "    </tr>\n",
              "  </thead>\n",
              "  <tbody>\n",
              "    <tr>\n",
              "      <th>Quantity</th>\n",
              "      <td>326400.0</td>\n",
              "      <td>9.659994</td>\n",
              "      <td>192.722022</td>\n",
              "      <td>-74215.00</td>\n",
              "      <td>1.00</td>\n",
              "      <td>3.0</td>\n",
              "      <td>10.00</td>\n",
              "      <td>74215.0</td>\n",
              "    </tr>\n",
              "    <tr>\n",
              "      <th>UnitPrice</th>\n",
              "      <td>326400.0</td>\n",
              "      <td>4.886140</td>\n",
              "      <td>112.407209</td>\n",
              "      <td>-11062.06</td>\n",
              "      <td>1.25</td>\n",
              "      <td>2.1</td>\n",
              "      <td>4.13</td>\n",
              "      <td>38970.0</td>\n",
              "    </tr>\n",
              "    <tr>\n",
              "      <th>CustomerID</th>\n",
              "      <td>236490.0</td>\n",
              "      <td>15278.241448</td>\n",
              "      <td>1726.032982</td>\n",
              "      <td>12346.00</td>\n",
              "      <td>13862.00</td>\n",
              "      <td>15150.0</td>\n",
              "      <td>16809.00</td>\n",
              "      <td>18287.0</td>\n",
              "    </tr>\n",
              "  </tbody>\n",
              "</table>\n",
              "</div>\n",
              "    <div class=\"colab-df-buttons\">\n",
              "\n",
              "  <div class=\"colab-df-container\">\n",
              "    <button class=\"colab-df-convert\" onclick=\"convertToInteractive('df-a2532da1-b2c1-424c-b025-8e38f5c0ab95')\"\n",
              "            title=\"Convert this dataframe to an interactive table.\"\n",
              "            style=\"display:none;\">\n",
              "\n",
              "  <svg xmlns=\"http://www.w3.org/2000/svg\" height=\"24px\" viewBox=\"0 -960 960 960\">\n",
              "    <path d=\"M120-120v-720h720v720H120Zm60-500h600v-160H180v160Zm220 220h160v-160H400v160Zm0 220h160v-160H400v160ZM180-400h160v-160H180v160Zm440 0h160v-160H620v160ZM180-180h160v-160H180v160Zm440 0h160v-160H620v160Z\"/>\n",
              "  </svg>\n",
              "    </button>\n",
              "\n",
              "  <style>\n",
              "    .colab-df-container {\n",
              "      display:flex;\n",
              "      gap: 12px;\n",
              "    }\n",
              "\n",
              "    .colab-df-convert {\n",
              "      background-color: #E8F0FE;\n",
              "      border: none;\n",
              "      border-radius: 50%;\n",
              "      cursor: pointer;\n",
              "      display: none;\n",
              "      fill: #1967D2;\n",
              "      height: 32px;\n",
              "      padding: 0 0 0 0;\n",
              "      width: 32px;\n",
              "    }\n",
              "\n",
              "    .colab-df-convert:hover {\n",
              "      background-color: #E2EBFA;\n",
              "      box-shadow: 0px 1px 2px rgba(60, 64, 67, 0.3), 0px 1px 3px 1px rgba(60, 64, 67, 0.15);\n",
              "      fill: #174EA6;\n",
              "    }\n",
              "\n",
              "    .colab-df-buttons div {\n",
              "      margin-bottom: 4px;\n",
              "    }\n",
              "\n",
              "    [theme=dark] .colab-df-convert {\n",
              "      background-color: #3B4455;\n",
              "      fill: #D2E3FC;\n",
              "    }\n",
              "\n",
              "    [theme=dark] .colab-df-convert:hover {\n",
              "      background-color: #434B5C;\n",
              "      box-shadow: 0px 1px 3px 1px rgba(0, 0, 0, 0.15);\n",
              "      filter: drop-shadow(0px 1px 2px rgba(0, 0, 0, 0.3));\n",
              "      fill: #FFFFFF;\n",
              "    }\n",
              "  </style>\n",
              "\n",
              "    <script>\n",
              "      const buttonEl =\n",
              "        document.querySelector('#df-a2532da1-b2c1-424c-b025-8e38f5c0ab95 button.colab-df-convert');\n",
              "      buttonEl.style.display =\n",
              "        google.colab.kernel.accessAllowed ? 'block' : 'none';\n",
              "\n",
              "      async function convertToInteractive(key) {\n",
              "        const element = document.querySelector('#df-a2532da1-b2c1-424c-b025-8e38f5c0ab95');\n",
              "        const dataTable =\n",
              "          await google.colab.kernel.invokeFunction('convertToInteractive',\n",
              "                                                    [key], {});\n",
              "        if (!dataTable) return;\n",
              "\n",
              "        const docLinkHtml = 'Like what you see? Visit the ' +\n",
              "          '<a target=\"_blank\" href=https://colab.research.google.com/notebooks/data_table.ipynb>data table notebook</a>'\n",
              "          + ' to learn more about interactive tables.';\n",
              "        element.innerHTML = '';\n",
              "        dataTable['output_type'] = 'display_data';\n",
              "        await google.colab.output.renderOutput(dataTable, element);\n",
              "        const docLink = document.createElement('div');\n",
              "        docLink.innerHTML = docLinkHtml;\n",
              "        element.appendChild(docLink);\n",
              "      }\n",
              "    </script>\n",
              "  </div>\n",
              "\n",
              "\n",
              "<div id=\"df-02e9b3b2-b921-4753-a196-2b4e358f8b60\">\n",
              "  <button class=\"colab-df-quickchart\" onclick=\"quickchart('df-02e9b3b2-b921-4753-a196-2b4e358f8b60')\"\n",
              "            title=\"Suggest charts\"\n",
              "            style=\"display:none;\">\n",
              "\n",
              "<svg xmlns=\"http://www.w3.org/2000/svg\" height=\"24px\"viewBox=\"0 0 24 24\"\n",
              "     width=\"24px\">\n",
              "    <g>\n",
              "        <path d=\"M19 3H5c-1.1 0-2 .9-2 2v14c0 1.1.9 2 2 2h14c1.1 0 2-.9 2-2V5c0-1.1-.9-2-2-2zM9 17H7v-7h2v7zm4 0h-2V7h2v10zm4 0h-2v-4h2v4z\"/>\n",
              "    </g>\n",
              "</svg>\n",
              "  </button>\n",
              "\n",
              "<style>\n",
              "  .colab-df-quickchart {\n",
              "      --bg-color: #E8F0FE;\n",
              "      --fill-color: #1967D2;\n",
              "      --hover-bg-color: #E2EBFA;\n",
              "      --hover-fill-color: #174EA6;\n",
              "      --disabled-fill-color: #AAA;\n",
              "      --disabled-bg-color: #DDD;\n",
              "  }\n",
              "\n",
              "  [theme=dark] .colab-df-quickchart {\n",
              "      --bg-color: #3B4455;\n",
              "      --fill-color: #D2E3FC;\n",
              "      --hover-bg-color: #434B5C;\n",
              "      --hover-fill-color: #FFFFFF;\n",
              "      --disabled-bg-color: #3B4455;\n",
              "      --disabled-fill-color: #666;\n",
              "  }\n",
              "\n",
              "  .colab-df-quickchart {\n",
              "    background-color: var(--bg-color);\n",
              "    border: none;\n",
              "    border-radius: 50%;\n",
              "    cursor: pointer;\n",
              "    display: none;\n",
              "    fill: var(--fill-color);\n",
              "    height: 32px;\n",
              "    padding: 0;\n",
              "    width: 32px;\n",
              "  }\n",
              "\n",
              "  .colab-df-quickchart:hover {\n",
              "    background-color: var(--hover-bg-color);\n",
              "    box-shadow: 0 1px 2px rgba(60, 64, 67, 0.3), 0 1px 3px 1px rgba(60, 64, 67, 0.15);\n",
              "    fill: var(--button-hover-fill-color);\n",
              "  }\n",
              "\n",
              "  .colab-df-quickchart-complete:disabled,\n",
              "  .colab-df-quickchart-complete:disabled:hover {\n",
              "    background-color: var(--disabled-bg-color);\n",
              "    fill: var(--disabled-fill-color);\n",
              "    box-shadow: none;\n",
              "  }\n",
              "\n",
              "  .colab-df-spinner {\n",
              "    border: 2px solid var(--fill-color);\n",
              "    border-color: transparent;\n",
              "    border-bottom-color: var(--fill-color);\n",
              "    animation:\n",
              "      spin 1s steps(1) infinite;\n",
              "  }\n",
              "\n",
              "  @keyframes spin {\n",
              "    0% {\n",
              "      border-color: transparent;\n",
              "      border-bottom-color: var(--fill-color);\n",
              "      border-left-color: var(--fill-color);\n",
              "    }\n",
              "    20% {\n",
              "      border-color: transparent;\n",
              "      border-left-color: var(--fill-color);\n",
              "      border-top-color: var(--fill-color);\n",
              "    }\n",
              "    30% {\n",
              "      border-color: transparent;\n",
              "      border-left-color: var(--fill-color);\n",
              "      border-top-color: var(--fill-color);\n",
              "      border-right-color: var(--fill-color);\n",
              "    }\n",
              "    40% {\n",
              "      border-color: transparent;\n",
              "      border-right-color: var(--fill-color);\n",
              "      border-top-color: var(--fill-color);\n",
              "    }\n",
              "    60% {\n",
              "      border-color: transparent;\n",
              "      border-right-color: var(--fill-color);\n",
              "    }\n",
              "    80% {\n",
              "      border-color: transparent;\n",
              "      border-right-color: var(--fill-color);\n",
              "      border-bottom-color: var(--fill-color);\n",
              "    }\n",
              "    90% {\n",
              "      border-color: transparent;\n",
              "      border-bottom-color: var(--fill-color);\n",
              "    }\n",
              "  }\n",
              "</style>\n",
              "\n",
              "  <script>\n",
              "    async function quickchart(key) {\n",
              "      const quickchartButtonEl =\n",
              "        document.querySelector('#' + key + ' button');\n",
              "      quickchartButtonEl.disabled = true;  // To prevent multiple clicks.\n",
              "      quickchartButtonEl.classList.add('colab-df-spinner');\n",
              "      try {\n",
              "        const charts = await google.colab.kernel.invokeFunction(\n",
              "            'suggestCharts', [key], {});\n",
              "      } catch (error) {\n",
              "        console.error('Error during call to suggestCharts:', error);\n",
              "      }\n",
              "      quickchartButtonEl.classList.remove('colab-df-spinner');\n",
              "      quickchartButtonEl.classList.add('colab-df-quickchart-complete');\n",
              "    }\n",
              "    (() => {\n",
              "      let quickchartButtonEl =\n",
              "        document.querySelector('#df-02e9b3b2-b921-4753-a196-2b4e358f8b60 button');\n",
              "      quickchartButtonEl.style.display =\n",
              "        google.colab.kernel.accessAllowed ? 'block' : 'none';\n",
              "    })();\n",
              "  </script>\n",
              "</div>\n",
              "\n",
              "    </div>\n",
              "  </div>\n"
            ],
            "application/vnd.google.colaboratory.intrinsic+json": {
              "type": "dataframe",
              "summary": "{\n  \"name\": \"df\",\n  \"rows\": 3,\n  \"fields\": [\n    {\n      \"column\": \"count\",\n      \"properties\": {\n        \"dtype\": \"number\",\n        \"std\": 51909.562702839256,\n        \"min\": 236490.0,\n        \"max\": 326400.0,\n        \"num_unique_values\": 2,\n        \"samples\": [\n          236490.0,\n          326400.0\n        ],\n        \"semantic_type\": \"\",\n        \"description\": \"\"\n      }\n    },\n    {\n      \"column\": \"mean\",\n      \"properties\": {\n        \"dtype\": \"number\",\n        \"std\": 8816.698028565075,\n        \"min\": 4.886140140931371,\n        \"max\": 15278.241447841347,\n        \"num_unique_values\": 3,\n        \"samples\": [\n          9.65999387254902,\n          4.886140140931371\n        ],\n        \"semantic_type\": \"\",\n        \"description\": \"\"\n      }\n    },\n    {\n      \"column\": \"std\",\n      \"properties\": {\n        \"dtype\": \"number\",\n        \"std\": 909.3295242289863,\n        \"min\": 112.40720893167844,\n        \"max\": 1726.0329817153627,\n        \"num_unique_values\": 3,\n        \"samples\": [\n          192.72202240127413,\n          112.40720893167844\n        ],\n        \"semantic_type\": \"\",\n        \"description\": \"\"\n      }\n    },\n    {\n      \"column\": \"min\",\n      \"properties\": {\n        \"dtype\": \"number\",\n        \"std\": 44775.435647624174,\n        \"min\": -74215.0,\n        \"max\": 12346.0,\n        \"num_unique_values\": 3,\n        \"samples\": [\n          -74215.0,\n          -11062.06\n        ],\n        \"semantic_type\": \"\",\n        \"description\": \"\"\n      }\n    },\n    {\n      \"column\": \"25%\",\n      \"properties\": {\n        \"dtype\": \"number\",\n        \"std\": 8002.579913430001,\n        \"min\": 1.0,\n        \"max\": 13862.0,\n        \"num_unique_values\": 3,\n        \"samples\": [\n          1.0,\n          1.25\n        ],\n        \"semantic_type\": \"\",\n        \"description\": \"\"\n      }\n    },\n    {\n      \"column\": \"50%\",\n      \"properties\": {\n        \"dtype\": \"number\",\n        \"std\": 8745.384346613931,\n        \"min\": 2.1,\n        \"max\": 15150.0,\n        \"num_unique_values\": 3,\n        \"samples\": [\n          3.0,\n          2.1\n        ],\n        \"semantic_type\": \"\",\n        \"description\": \"\"\n      }\n    },\n    {\n      \"column\": \"75%\",\n      \"properties\": {\n        \"dtype\": \"number\",\n        \"std\": 9700.60213916126,\n        \"min\": 4.13,\n        \"max\": 16809.0,\n        \"num_unique_values\": 3,\n        \"samples\": [\n          10.0,\n          4.13\n        ],\n        \"semantic_type\": \"\",\n        \"description\": \"\"\n      }\n    },\n    {\n      \"column\": \"max\",\n      \"properties\": {\n        \"dtype\": \"number\",\n        \"std\": 28278.19447913887,\n        \"min\": 18287.0,\n        \"max\": 74215.0,\n        \"num_unique_values\": 3,\n        \"samples\": [\n          74215.0,\n          38970.0\n        ],\n        \"semantic_type\": \"\",\n        \"description\": \"\"\n      }\n    }\n  ]\n}"
            }
          },
          "metadata": {},
          "execution_count": 8
        }
      ],
      "source": [
        "# Summary statistics for numerical variables\n",
        "df.describe().T"
      ]
    },
    {
      "cell_type": "code",
      "execution_count": 9,
      "id": "38d8e05d",
      "metadata": {
        "execution": {
          "iopub.execute_input": "2023-09-13T18:55:38.146804Z",
          "iopub.status.busy": "2023-09-13T18:55:38.145535Z",
          "iopub.status.idle": "2023-09-13T18:55:38.926847Z",
          "shell.execute_reply": "2023-09-13T18:55:38.925304Z"
        },
        "papermill": {
          "duration": 0.843701,
          "end_time": "2023-09-13T18:55:38.930130",
          "exception": false,
          "start_time": "2023-09-13T18:55:38.086429",
          "status": "completed"
        },
        "scrolled": false,
        "tags": [],
        "colab": {
          "base_uri": "https://localhost:8080/",
          "height": 206
        },
        "id": "38d8e05d",
        "outputId": "3821a114-566e-4366-e9ab-fb554c4b65d2"
      },
      "outputs": [
        {
          "output_type": "execute_result",
          "data": {
            "text/plain": [
              "              count unique                                 top    freq\n",
              "InvoiceNo    326401  16732                              558475     705\n",
              "StockCode    326401   3797                              85123A    1656\n",
              "Description  325231   3825  WHITE HANGING HEART T-LIGHT HOLDER    1695\n",
              "InvoiceDate  326400  15129                     6/29/2011 15:58     705\n",
              "Country      326400     37                      United Kingdom  297934"
            ],
            "text/html": [
              "\n",
              "  <div id=\"df-c3d17c37-e20c-47d9-9c1c-0d55c7175a8a\" class=\"colab-df-container\">\n",
              "    <div>\n",
              "<style scoped>\n",
              "    .dataframe tbody tr th:only-of-type {\n",
              "        vertical-align: middle;\n",
              "    }\n",
              "\n",
              "    .dataframe tbody tr th {\n",
              "        vertical-align: top;\n",
              "    }\n",
              "\n",
              "    .dataframe thead th {\n",
              "        text-align: right;\n",
              "    }\n",
              "</style>\n",
              "<table border=\"1\" class=\"dataframe\">\n",
              "  <thead>\n",
              "    <tr style=\"text-align: right;\">\n",
              "      <th></th>\n",
              "      <th>count</th>\n",
              "      <th>unique</th>\n",
              "      <th>top</th>\n",
              "      <th>freq</th>\n",
              "    </tr>\n",
              "  </thead>\n",
              "  <tbody>\n",
              "    <tr>\n",
              "      <th>InvoiceNo</th>\n",
              "      <td>326401</td>\n",
              "      <td>16732</td>\n",
              "      <td>558475</td>\n",
              "      <td>705</td>\n",
              "    </tr>\n",
              "    <tr>\n",
              "      <th>StockCode</th>\n",
              "      <td>326401</td>\n",
              "      <td>3797</td>\n",
              "      <td>85123A</td>\n",
              "      <td>1656</td>\n",
              "    </tr>\n",
              "    <tr>\n",
              "      <th>Description</th>\n",
              "      <td>325231</td>\n",
              "      <td>3825</td>\n",
              "      <td>WHITE HANGING HEART T-LIGHT HOLDER</td>\n",
              "      <td>1695</td>\n",
              "    </tr>\n",
              "    <tr>\n",
              "      <th>InvoiceDate</th>\n",
              "      <td>326400</td>\n",
              "      <td>15129</td>\n",
              "      <td>6/29/2011 15:58</td>\n",
              "      <td>705</td>\n",
              "    </tr>\n",
              "    <tr>\n",
              "      <th>Country</th>\n",
              "      <td>326400</td>\n",
              "      <td>37</td>\n",
              "      <td>United Kingdom</td>\n",
              "      <td>297934</td>\n",
              "    </tr>\n",
              "  </tbody>\n",
              "</table>\n",
              "</div>\n",
              "    <div class=\"colab-df-buttons\">\n",
              "\n",
              "  <div class=\"colab-df-container\">\n",
              "    <button class=\"colab-df-convert\" onclick=\"convertToInteractive('df-c3d17c37-e20c-47d9-9c1c-0d55c7175a8a')\"\n",
              "            title=\"Convert this dataframe to an interactive table.\"\n",
              "            style=\"display:none;\">\n",
              "\n",
              "  <svg xmlns=\"http://www.w3.org/2000/svg\" height=\"24px\" viewBox=\"0 -960 960 960\">\n",
              "    <path d=\"M120-120v-720h720v720H120Zm60-500h600v-160H180v160Zm220 220h160v-160H400v160Zm0 220h160v-160H400v160ZM180-400h160v-160H180v160Zm440 0h160v-160H620v160ZM180-180h160v-160H180v160Zm440 0h160v-160H620v160Z\"/>\n",
              "  </svg>\n",
              "    </button>\n",
              "\n",
              "  <style>\n",
              "    .colab-df-container {\n",
              "      display:flex;\n",
              "      gap: 12px;\n",
              "    }\n",
              "\n",
              "    .colab-df-convert {\n",
              "      background-color: #E8F0FE;\n",
              "      border: none;\n",
              "      border-radius: 50%;\n",
              "      cursor: pointer;\n",
              "      display: none;\n",
              "      fill: #1967D2;\n",
              "      height: 32px;\n",
              "      padding: 0 0 0 0;\n",
              "      width: 32px;\n",
              "    }\n",
              "\n",
              "    .colab-df-convert:hover {\n",
              "      background-color: #E2EBFA;\n",
              "      box-shadow: 0px 1px 2px rgba(60, 64, 67, 0.3), 0px 1px 3px 1px rgba(60, 64, 67, 0.15);\n",
              "      fill: #174EA6;\n",
              "    }\n",
              "\n",
              "    .colab-df-buttons div {\n",
              "      margin-bottom: 4px;\n",
              "    }\n",
              "\n",
              "    [theme=dark] .colab-df-convert {\n",
              "      background-color: #3B4455;\n",
              "      fill: #D2E3FC;\n",
              "    }\n",
              "\n",
              "    [theme=dark] .colab-df-convert:hover {\n",
              "      background-color: #434B5C;\n",
              "      box-shadow: 0px 1px 3px 1px rgba(0, 0, 0, 0.15);\n",
              "      filter: drop-shadow(0px 1px 2px rgba(0, 0, 0, 0.3));\n",
              "      fill: #FFFFFF;\n",
              "    }\n",
              "  </style>\n",
              "\n",
              "    <script>\n",
              "      const buttonEl =\n",
              "        document.querySelector('#df-c3d17c37-e20c-47d9-9c1c-0d55c7175a8a button.colab-df-convert');\n",
              "      buttonEl.style.display =\n",
              "        google.colab.kernel.accessAllowed ? 'block' : 'none';\n",
              "\n",
              "      async function convertToInteractive(key) {\n",
              "        const element = document.querySelector('#df-c3d17c37-e20c-47d9-9c1c-0d55c7175a8a');\n",
              "        const dataTable =\n",
              "          await google.colab.kernel.invokeFunction('convertToInteractive',\n",
              "                                                    [key], {});\n",
              "        if (!dataTable) return;\n",
              "\n",
              "        const docLinkHtml = 'Like what you see? Visit the ' +\n",
              "          '<a target=\"_blank\" href=https://colab.research.google.com/notebooks/data_table.ipynb>data table notebook</a>'\n",
              "          + ' to learn more about interactive tables.';\n",
              "        element.innerHTML = '';\n",
              "        dataTable['output_type'] = 'display_data';\n",
              "        await google.colab.output.renderOutput(dataTable, element);\n",
              "        const docLink = document.createElement('div');\n",
              "        docLink.innerHTML = docLinkHtml;\n",
              "        element.appendChild(docLink);\n",
              "      }\n",
              "    </script>\n",
              "  </div>\n",
              "\n",
              "\n",
              "<div id=\"df-70fcc7a8-fe8f-4482-9f11-613163160497\">\n",
              "  <button class=\"colab-df-quickchart\" onclick=\"quickchart('df-70fcc7a8-fe8f-4482-9f11-613163160497')\"\n",
              "            title=\"Suggest charts\"\n",
              "            style=\"display:none;\">\n",
              "\n",
              "<svg xmlns=\"http://www.w3.org/2000/svg\" height=\"24px\"viewBox=\"0 0 24 24\"\n",
              "     width=\"24px\">\n",
              "    <g>\n",
              "        <path d=\"M19 3H5c-1.1 0-2 .9-2 2v14c0 1.1.9 2 2 2h14c1.1 0 2-.9 2-2V5c0-1.1-.9-2-2-2zM9 17H7v-7h2v7zm4 0h-2V7h2v10zm4 0h-2v-4h2v4z\"/>\n",
              "    </g>\n",
              "</svg>\n",
              "  </button>\n",
              "\n",
              "<style>\n",
              "  .colab-df-quickchart {\n",
              "      --bg-color: #E8F0FE;\n",
              "      --fill-color: #1967D2;\n",
              "      --hover-bg-color: #E2EBFA;\n",
              "      --hover-fill-color: #174EA6;\n",
              "      --disabled-fill-color: #AAA;\n",
              "      --disabled-bg-color: #DDD;\n",
              "  }\n",
              "\n",
              "  [theme=dark] .colab-df-quickchart {\n",
              "      --bg-color: #3B4455;\n",
              "      --fill-color: #D2E3FC;\n",
              "      --hover-bg-color: #434B5C;\n",
              "      --hover-fill-color: #FFFFFF;\n",
              "      --disabled-bg-color: #3B4455;\n",
              "      --disabled-fill-color: #666;\n",
              "  }\n",
              "\n",
              "  .colab-df-quickchart {\n",
              "    background-color: var(--bg-color);\n",
              "    border: none;\n",
              "    border-radius: 50%;\n",
              "    cursor: pointer;\n",
              "    display: none;\n",
              "    fill: var(--fill-color);\n",
              "    height: 32px;\n",
              "    padding: 0;\n",
              "    width: 32px;\n",
              "  }\n",
              "\n",
              "  .colab-df-quickchart:hover {\n",
              "    background-color: var(--hover-bg-color);\n",
              "    box-shadow: 0 1px 2px rgba(60, 64, 67, 0.3), 0 1px 3px 1px rgba(60, 64, 67, 0.15);\n",
              "    fill: var(--button-hover-fill-color);\n",
              "  }\n",
              "\n",
              "  .colab-df-quickchart-complete:disabled,\n",
              "  .colab-df-quickchart-complete:disabled:hover {\n",
              "    background-color: var(--disabled-bg-color);\n",
              "    fill: var(--disabled-fill-color);\n",
              "    box-shadow: none;\n",
              "  }\n",
              "\n",
              "  .colab-df-spinner {\n",
              "    border: 2px solid var(--fill-color);\n",
              "    border-color: transparent;\n",
              "    border-bottom-color: var(--fill-color);\n",
              "    animation:\n",
              "      spin 1s steps(1) infinite;\n",
              "  }\n",
              "\n",
              "  @keyframes spin {\n",
              "    0% {\n",
              "      border-color: transparent;\n",
              "      border-bottom-color: var(--fill-color);\n",
              "      border-left-color: var(--fill-color);\n",
              "    }\n",
              "    20% {\n",
              "      border-color: transparent;\n",
              "      border-left-color: var(--fill-color);\n",
              "      border-top-color: var(--fill-color);\n",
              "    }\n",
              "    30% {\n",
              "      border-color: transparent;\n",
              "      border-left-color: var(--fill-color);\n",
              "      border-top-color: var(--fill-color);\n",
              "      border-right-color: var(--fill-color);\n",
              "    }\n",
              "    40% {\n",
              "      border-color: transparent;\n",
              "      border-right-color: var(--fill-color);\n",
              "      border-top-color: var(--fill-color);\n",
              "    }\n",
              "    60% {\n",
              "      border-color: transparent;\n",
              "      border-right-color: var(--fill-color);\n",
              "    }\n",
              "    80% {\n",
              "      border-color: transparent;\n",
              "      border-right-color: var(--fill-color);\n",
              "      border-bottom-color: var(--fill-color);\n",
              "    }\n",
              "    90% {\n",
              "      border-color: transparent;\n",
              "      border-bottom-color: var(--fill-color);\n",
              "    }\n",
              "  }\n",
              "</style>\n",
              "\n",
              "  <script>\n",
              "    async function quickchart(key) {\n",
              "      const quickchartButtonEl =\n",
              "        document.querySelector('#' + key + ' button');\n",
              "      quickchartButtonEl.disabled = true;  // To prevent multiple clicks.\n",
              "      quickchartButtonEl.classList.add('colab-df-spinner');\n",
              "      try {\n",
              "        const charts = await google.colab.kernel.invokeFunction(\n",
              "            'suggestCharts', [key], {});\n",
              "      } catch (error) {\n",
              "        console.error('Error during call to suggestCharts:', error);\n",
              "      }\n",
              "      quickchartButtonEl.classList.remove('colab-df-spinner');\n",
              "      quickchartButtonEl.classList.add('colab-df-quickchart-complete');\n",
              "    }\n",
              "    (() => {\n",
              "      let quickchartButtonEl =\n",
              "        document.querySelector('#df-70fcc7a8-fe8f-4482-9f11-613163160497 button');\n",
              "      quickchartButtonEl.style.display =\n",
              "        google.colab.kernel.accessAllowed ? 'block' : 'none';\n",
              "    })();\n",
              "  </script>\n",
              "</div>\n",
              "\n",
              "    </div>\n",
              "  </div>\n"
            ],
            "application/vnd.google.colaboratory.intrinsic+json": {
              "type": "dataframe",
              "summary": "{\n  \"name\": \"df\",\n  \"rows\": 5,\n  \"fields\": [\n    {\n      \"column\": \"count\",\n      \"properties\": {\n        \"dtype\": \"date\",\n        \"min\": \"325231\",\n        \"max\": \"326401\",\n        \"num_unique_values\": 3,\n        \"samples\": [\n          \"326401\",\n          \"325231\",\n          \"326400\"\n        ],\n        \"semantic_type\": \"\",\n        \"description\": \"\"\n      }\n    },\n    {\n      \"column\": \"unique\",\n      \"properties\": {\n        \"dtype\": \"date\",\n        \"min\": 37,\n        \"max\": 16732,\n        \"num_unique_values\": 5,\n        \"samples\": [\n          3797,\n          37,\n          3825\n        ],\n        \"semantic_type\": \"\",\n        \"description\": \"\"\n      }\n    },\n    {\n      \"column\": \"top\",\n      \"properties\": {\n        \"dtype\": \"string\",\n        \"num_unique_values\": 5,\n        \"samples\": [\n          \"85123A\",\n          \"United Kingdom\",\n          \"WHITE HANGING HEART T-LIGHT HOLDER\"\n        ],\n        \"semantic_type\": \"\",\n        \"description\": \"\"\n      }\n    },\n    {\n      \"column\": \"freq\",\n      \"properties\": {\n        \"dtype\": \"date\",\n        \"min\": \"705\",\n        \"max\": \"297934\",\n        \"num_unique_values\": 4,\n        \"samples\": [\n          \"1656\",\n          \"297934\",\n          \"705\"\n        ],\n        \"semantic_type\": \"\",\n        \"description\": \"\"\n      }\n    }\n  ]\n}"
            }
          },
          "metadata": {},
          "execution_count": 9
        }
      ],
      "source": [
        "# Summary statistics for categorical variables\n",
        "df.describe(include='object').T"
      ]
    },
    {
      "cell_type": "markdown",
      "id": "c5e67213",
      "metadata": {
        "papermill": {
          "duration": 0.060269,
          "end_time": "2023-09-13T18:55:39.048706",
          "exception": false,
          "start_time": "2023-09-13T18:55:38.988437",
          "status": "completed"
        },
        "tags": [],
        "id": "c5e67213"
      },
      "source": [
        "<div style=\"border-radius:10px; padding: 15px; background-color: #ffeacc; font-size:120%; text-align:left\">\n",
        "<h3 align=\"left\"><font color=#ff6200>Inferences:</font></h3>\n",
        "\n",
        "Write your inferences here"
      ]
    },
    {
      "cell_type": "markdown",
      "id": "e987c3f4",
      "metadata": {
        "papermill": {
          "duration": 0.058377,
          "end_time": "2023-09-13T18:55:39.164241",
          "exception": false,
          "start_time": "2023-09-13T18:55:39.105864",
          "status": "completed"
        },
        "tags": [],
        "id": "e987c3f4"
      },
      "source": [
        "<a id=\"data_cleaning\"></a>\n",
        "# <p style=\"background-color: #ff6200; font-family:calibri; color:white; font-size:140%; font-family:Verdana; text-align:center; border-radius:15px 50px;\">Step 3 |  Data Cleaning & Transformation</p>\n",
        "⬆️ [Tabel of Contents](#contents_tabel)"
      ]
    },
    {
      "cell_type": "markdown",
      "id": "c3c78453",
      "metadata": {
        "papermill": {
          "duration": 0.057457,
          "end_time": "2023-09-13T18:55:39.281958",
          "exception": false,
          "start_time": "2023-09-13T18:55:39.224501",
          "status": "completed"
        },
        "tags": [],
        "id": "c3c78453"
      },
      "source": [
        "<div style=\"border-radius:10px; padding: 15px; background-color: #ffeacc; font-size:120%; text-align:left\">\n",
        "\n",
        "This step encompasses a comprehensive cleaning and transformation process to refine the dataset. It includes addressing missing values, eliminating duplicate entries, correcting anomalies in product codes and descriptions, and other necessary adjustments to prepare the data for in-depth analysis and modeling."
      ]
    },
    {
      "cell_type": "markdown",
      "id": "5352c8a4",
      "metadata": {
        "papermill": {
          "duration": 0.05663,
          "end_time": "2023-09-13T18:55:39.395575",
          "exception": false,
          "start_time": "2023-09-13T18:55:39.338945",
          "status": "completed"
        },
        "tags": [],
        "id": "5352c8a4"
      },
      "source": [
        "<a id=\"missing_values\"></a>\n",
        "# <b><span style='color:#fcc36d'>Step 3.1 |</span><span style='color:#ff6200'> Handling Missing Values</span></b>\n",
        "⬆️ [Tabel of Contents](#contents_tabel)"
      ]
    },
    {
      "cell_type": "markdown",
      "id": "44be9a3d",
      "metadata": {
        "papermill": {
          "duration": 0.056136,
          "end_time": "2023-09-13T18:55:39.509898",
          "exception": false,
          "start_time": "2023-09-13T18:55:39.453762",
          "status": "completed"
        },
        "tags": [],
        "id": "44be9a3d"
      },
      "source": [
        "<div style=\"border-radius:10px; padding: 15px; background-color: #ffeacc; font-size:120%; text-align:left\">\n",
        "    \n",
        "Initially, we will determine the percentage of missing values present in each column, followed by selecting the most effective strategy to address them:"
      ]
    },
    {
      "cell_type": "code",
      "execution_count": 10,
      "id": "f7b6abe6",
      "metadata": {
        "execution": {
          "iopub.execute_input": "2023-09-13T18:55:39.631822Z",
          "iopub.status.busy": "2023-09-13T18:55:39.631324Z",
          "iopub.status.idle": "2023-09-13T18:55:40.550431Z",
          "shell.execute_reply": "2023-09-13T18:55:40.548527Z"
        },
        "papermill": {
          "duration": 0.983847,
          "end_time": "2023-09-13T18:55:40.553710",
          "exception": false,
          "start_time": "2023-09-13T18:55:39.569863",
          "status": "completed"
        },
        "tags": [],
        "colab": {
          "base_uri": "https://localhost:8080/",
          "height": 219
        },
        "id": "f7b6abe6",
        "outputId": "2138e040-8de6-483f-fda7-f4c4b3b6da87"
      },
      "outputs": [
        {
          "output_type": "display_data",
          "data": {
            "text/plain": [
              "<Figure size 1500x400 with 1 Axes>"
            ],
            "image/png": "[encoded data removed]"
          },
          "metadata": {}
        }
      ],
      "source": [
        "# Calculating the percentage of missing values for each column\n",
        "missing_data = df.isnull().sum()\n",
        "missing_percentage = (missing_data[missing_data > 0] / df.shape[0]) * 100\n",
        "# Prepare values\n",
        "missing_percentage.sort_values(ascending=True, inplace=True)\n",
        "\n",
        "# Plot the barh chart\n",
        "fig, ax = plt.subplots(figsize=(15, 4))\n",
        "ax.barh(missing_percentage.index, missing_percentage, color='#ff6200')\n",
        "\n",
        "# Annotate the values and indexes\n",
        "for i, (value, name) in enumerate(zip(missing_percentage, missing_percentage.index)):\n",
        "    ax.text(value+0.5, i, f\"{value:.2f}%\", ha='left', va='center', fontweight='bold', fontsize=18, color='black')\n",
        "\n",
        "# Set x-axis limit\n",
        "ax.set_xlim([0, 40])\n",
        "\n",
        "# Add title and xlabel\n",
        "plt.title(\"Percentage of Missing Values\", fontweight='bold', fontsize=22)\n",
        "plt.xlabel('Percentages (%)', fontsize=16)\n",
        "plt.show()"
      ]
    },
    {
      "cell_type": "markdown",
      "id": "b59b382a",
      "metadata": {
        "papermill": {
          "duration": 0.0648,
          "end_time": "2023-09-13T18:55:40.684001",
          "exception": false,
          "start_time": "2023-09-13T18:55:40.619201",
          "status": "completed"
        },
        "tags": [],
        "id": "b59b382a"
      },
      "source": [
        "<div style=\"border-radius:10px; padding: 15px; background-color: #ffeacc; font-size:120%; text-align:left\">\n",
        "\n",
        "<h3 align=\"left\"><font color=#ff6200>Handling Missing Values Strategy:</font></h3>\n",
        "\n",
        "- __`CustomerID` (24.93% missing values)__\n",
        "   - The `CustomerID` column contains nearly a quarter of missing data. This column is essential for clustering customers and creating a recommendation system. Imputing such a large percentage of missing values might introduce significant bias or noise into the analysis.\n",
        "    \n",
        "   - Moreover, since the clustering is based on customer behavior and preferences, it's crucial to have accurate data on customer identifiers. Therefore, removing the rows with missing `CustomerID`s seems to be the most reasonable approach to maintain the integrity of the clusters and the analysis.\n",
        "\n",
        "    \n",
        "- __`Description` (0.27% missing values)__\n",
        "   - The `Description` column has a minor percentage of missing values. However, it has been noticed that there are inconsistencies in the data where the same `StockCode` does not always have the same `Description`. This indicates data quality issues and potential errors in the product descriptions.\n",
        "    \n",
        "   - Given these inconsistencies, imputing the missing descriptions based on `StockCode` might not be reliable. Moreover, since the missing percentage is quite low, it would be prudent to remove the rows with missing `Description`s to avoid propagating errors and inconsistencies into the subsequent analyses.\n",
        "   \n",
        "By removing rows with missing values in the `CustomerID` and `Description` columns, we aim to construct a cleaner and more reliable dataset, which is essential for achieving accurate clustering and creating an effective recommendation system.\n"
      ]
    },
    {
      "cell_type": "code",
      "execution_count": 12,
      "id": "1ec499ed",
      "metadata": {
        "execution": {
          "iopub.execute_input": "2023-09-13T18:55:40.810679Z",
          "iopub.status.busy": "2023-09-13T18:55:40.810237Z",
          "iopub.status.idle": "2023-09-13T18:55:40.906637Z",
          "shell.execute_reply": "2023-09-13T18:55:40.905084Z"
        },
        "papermill": {
          "duration": 0.161893,
          "end_time": "2023-09-13T18:55:40.910774",
          "exception": false,
          "start_time": "2023-09-13T18:55:40.748881",
          "status": "completed"
        },
        "tags": [],
        "id": "1ec499ed"
      },
      "outputs": [],
      "source": [
        "# Extracting rows with missing values in 'CustomerID' or 'Description' columns\n",
        "# Check for missing values in 'CustomerID' or 'Description' columns\n",
        "missing_values_df = df[df['CustomerID'].isnull() | df['Description'].isnull()]"
      ]
    },
    {
      "cell_type": "code",
      "execution_count": 13,
      "id": "9be2cf0c",
      "metadata": {
        "execution": {
          "iopub.execute_input": "2023-09-13T18:55:41.036284Z",
          "iopub.status.busy": "2023-09-13T18:55:41.035290Z",
          "iopub.status.idle": "2023-09-13T18:55:41.171478Z",
          "shell.execute_reply": "2023-09-13T18:55:41.170474Z"
        },
        "papermill": {
          "duration": 0.200287,
          "end_time": "2023-09-13T18:55:41.174169",
          "exception": false,
          "start_time": "2023-09-13T18:55:40.973882",
          "status": "completed"
        },
        "tags": [],
        "id": "9be2cf0c"
      },
      "outputs": [],
      "source": [
        "# Removing rows with missing values in 'CustomerID' and 'Description' columns\n",
        "# Drop rows with missing values in 'CustomerID' or 'Description' columns\n",
        "df = df.dropna(subset=['CustomerID'])\n",
        "df = df.dropna(subset=['Description'])"
      ]
    },
    {
      "cell_type": "code",
      "execution_count": 15,
      "id": "fdc31d61",
      "metadata": {
        "scrolled": true,
        "colab": {
          "base_uri": "https://localhost:8080/",
          "height": 591
        },
        "id": "fdc31d61",
        "outputId": "0ae43eee-7cf8-4cf3-8d08-5d71758cb1c9"
      },
      "outputs": [
        {
          "output_type": "execute_result",
          "data": {
            "text/plain": [
              "       InvoiceNo StockCode                       Description  Quantity  \\\n",
              "283886    561817    85099B           JUMBO BAG RED RETROSPOT      10.0   \n",
              "275601    560997     22384           LUNCH BAG PINK POLKADOT      20.0   \n",
              "31591     538998     85178              VICTORIAN SEWING KIT      36.0   \n",
              "135408    547895    84970L  SINGLE HEART ZINC T-LIGHT HOLDER       3.0   \n",
              "292964    562573    16169E              WRAP 50'S  CHRISTMAS      25.0   \n",
              "158357    550286     21715  GIRLS VINTAGE TIN SEASIDE BUCKET       8.0   \n",
              "38647     539593     22111      SCOTTIE DOG HOT WATER BOTTLE       6.0   \n",
              "184507    552694     21216  SET 3 RETROSPOT TEA,COFFEE,SUGAR       4.0   \n",
              "180396    552318     20832  RED FLOCK LOVE HEART PHOTO FRAME       3.0   \n",
              "181098    552446     22999   TRAVEL CARD WALLET RETRO PETALS      24.0   \n",
              "\n",
              "             InvoiceDate  UnitPrice  CustomerID         Country  \n",
              "283886   7/29/2011 15:51       2.08     12921.0  United Kingdom  \n",
              "275601   7/22/2011 13:59       1.65     12627.0         Germany  \n",
              "31591   12/15/2010 12:08       1.25     15061.0  United Kingdom  \n",
              "135408   3/28/2011 10:52       0.95     18118.0  United Kingdom  \n",
              "292964    8/7/2011 12:40       0.42     13248.0  United Kingdom  \n",
              "158357   4/15/2011 14:14       2.55     15027.0  United Kingdom  \n",
              "38647   12/20/2010 13:31       4.95     13319.0  United Kingdom  \n",
              "184507   5/10/2011 15:25       4.95     12749.0  United Kingdom  \n",
              "180396    5/8/2011 16:13       0.85     17231.0  United Kingdom  \n",
              "181098    5/9/2011 13:28       0.42     16729.0  United Kingdom  "
            ],
            "text/html": [
              "\n",
              "  <div id=\"df-51a3591c-756e-49a6-871b-d4068e10f307\" class=\"colab-df-container\">\n",
              "    <div>\n",
              "<style scoped>\n",
              "    .dataframe tbody tr th:only-of-type {\n",
              "        vertical-align: middle;\n",
              "    }\n",
              "\n",
              "    .dataframe tbody tr th {\n",
              "        vertical-align: top;\n",
              "    }\n",
              "\n",
              "    .dataframe thead th {\n",
              "        text-align: right;\n",
              "    }\n",
              "</style>\n",
              "<table border=\"1\" class=\"dataframe\">\n",
              "  <thead>\n",
              "    <tr style=\"text-align: right;\">\n",
              "      <th></th>\n",
              "      <th>InvoiceNo</th>\n",
              "      <th>StockCode</th>\n",
              "      <th>Description</th>\n",
              "      <th>Quantity</th>\n",
              "      <th>InvoiceDate</th>\n",
              "      <th>UnitPrice</th>\n",
              "      <th>CustomerID</th>\n",
              "      <th>Country</th>\n",
              "    </tr>\n",
              "  </thead>\n",
              "  <tbody>\n",
              "    <tr>\n",
              "      <th>283886</th>\n",
              "      <td>561817</td>\n",
              "      <td>85099B</td>\n",
              "      <td>JUMBO BAG RED RETROSPOT</td>\n",
              "      <td>10.0</td>\n",
              "      <td>7/29/2011 15:51</td>\n",
              "      <td>2.08</td>\n",
              "      <td>12921.0</td>\n",
              "      <td>United Kingdom</td>\n",
              "    </tr>\n",
              "    <tr>\n",
              "      <th>275601</th>\n",
              "      <td>560997</td>\n",
              "      <td>22384</td>\n",
              "      <td>LUNCH BAG PINK POLKADOT</td>\n",
              "      <td>20.0</td>\n",
              "      <td>7/22/2011 13:59</td>\n",
              "      <td>1.65</td>\n",
              "      <td>12627.0</td>\n",
              "      <td>Germany</td>\n",
              "    </tr>\n",
              "    <tr>\n",
              "      <th>31591</th>\n",
              "      <td>538998</td>\n",
              "      <td>85178</td>\n",
              "      <td>VICTORIAN SEWING KIT</td>\n",
              "      <td>36.0</td>\n",
              "      <td>12/15/2010 12:08</td>\n",
              "      <td>1.25</td>\n",
              "      <td>15061.0</td>\n",
              "      <td>United Kingdom</td>\n",
              "    </tr>\n",
              "    <tr>\n",
              "      <th>135408</th>\n",
              "      <td>547895</td>\n",
              "      <td>84970L</td>\n",
              "      <td>SINGLE HEART ZINC T-LIGHT HOLDER</td>\n",
              "      <td>3.0</td>\n",
              "      <td>3/28/2011 10:52</td>\n",
              "      <td>0.95</td>\n",
              "      <td>18118.0</td>\n",
              "      <td>United Kingdom</td>\n",
              "    </tr>\n",
              "    <tr>\n",
              "      <th>292964</th>\n",
              "      <td>562573</td>\n",
              "      <td>16169E</td>\n",
              "      <td>WRAP 50'S  CHRISTMAS</td>\n",
              "      <td>25.0</td>\n",
              "      <td>8/7/2011 12:40</td>\n",
              "      <td>0.42</td>\n",
              "      <td>13248.0</td>\n",
              "      <td>United Kingdom</td>\n",
              "    </tr>\n",
              "    <tr>\n",
              "      <th>158357</th>\n",
              "      <td>550286</td>\n",
              "      <td>21715</td>\n",
              "      <td>GIRLS VINTAGE TIN SEASIDE BUCKET</td>\n",
              "      <td>8.0</td>\n",
              "      <td>4/15/2011 14:14</td>\n",
              "      <td>2.55</td>\n",
              "      <td>15027.0</td>\n",
              "      <td>United Kingdom</td>\n",
              "    </tr>\n",
              "    <tr>\n",
              "      <th>38647</th>\n",
              "      <td>539593</td>\n",
              "      <td>22111</td>\n",
              "      <td>SCOTTIE DOG HOT WATER BOTTLE</td>\n",
              "      <td>6.0</td>\n",
              "      <td>12/20/2010 13:31</td>\n",
              "      <td>4.95</td>\n",
              "      <td>13319.0</td>\n",
              "      <td>United Kingdom</td>\n",
              "    </tr>\n",
              "    <tr>\n",
              "      <th>184507</th>\n",
              "      <td>552694</td>\n",
              "      <td>21216</td>\n",
              "      <td>SET 3 RETROSPOT TEA,COFFEE,SUGAR</td>\n",
              "      <td>4.0</td>\n",
              "      <td>5/10/2011 15:25</td>\n",
              "      <td>4.95</td>\n",
              "      <td>12749.0</td>\n",
              "      <td>United Kingdom</td>\n",
              "    </tr>\n",
              "    <tr>\n",
              "      <th>180396</th>\n",
              "      <td>552318</td>\n",
              "      <td>20832</td>\n",
              "      <td>RED FLOCK LOVE HEART PHOTO FRAME</td>\n",
              "      <td>3.0</td>\n",
              "      <td>5/8/2011 16:13</td>\n",
              "      <td>0.85</td>\n",
              "      <td>17231.0</td>\n",
              "      <td>United Kingdom</td>\n",
              "    </tr>\n",
              "    <tr>\n",
              "      <th>181098</th>\n",
              "      <td>552446</td>\n",
              "      <td>22999</td>\n",
              "      <td>TRAVEL CARD WALLET RETRO PETALS</td>\n",
              "      <td>24.0</td>\n",
              "      <td>5/9/2011 13:28</td>\n",
              "      <td>0.42</td>\n",
              "      <td>16729.0</td>\n",
              "      <td>United Kingdom</td>\n",
              "    </tr>\n",
              "  </tbody>\n",
              "</table>\n",
              "</div>\n",
              "    <div class=\"colab-df-buttons\">\n",
              "\n",
              "  <div class=\"colab-df-container\">\n",
              "    <button class=\"colab-df-convert\" onclick=\"convertToInteractive('df-51a3591c-756e-49a6-871b-d4068e10f307')\"\n",
              "            title=\"Convert this dataframe to an interactive table.\"\n",
              "            style=\"display:none;\">\n",
              "\n",
              "  <svg xmlns=\"http://www.w3.org/2000/svg\" height=\"24px\" viewBox=\"0 -960 960 960\">\n",
              "    <path d=\"M120-120v-720h720v720H120Zm60-500h600v-160H180v160Zm220 220h160v-160H400v160Zm0 220h160v-160H400v160ZM180-400h160v-160H180v160Zm440 0h160v-160H620v160ZM180-180h160v-160H180v160Zm440 0h160v-160H620v160Z\"/>\n",
              "  </svg>\n",
              "    </button>\n",
              "\n",
              "  <style>\n",
              "    .colab-df-container {\n",
              "      display:flex;\n",
              "      gap: 12px;\n",
              "    }\n",
              "\n",
              "    .colab-df-convert {\n",
              "      background-color: #E8F0FE;\n",
              "      border: none;\n",
              "      border-radius: 50%;\n",
              "      cursor: pointer;\n",
              "      display: none;\n",
              "      fill: #1967D2;\n",
              "      height: 32px;\n",
              "      padding: 0 0 0 0;\n",
              "      width: 32px;\n",
              "    }\n",
              "\n",
              "    .colab-df-convert:hover {\n",
              "      background-color: #E2EBFA;\n",
              "      box-shadow: 0px 1px 2px rgba(60, 64, 67, 0.3), 0px 1px 3px 1px rgba(60, 64, 67, 0.15);\n",
              "      fill: #174EA6;\n",
              "    }\n",
              "\n",
              "    .colab-df-buttons div {\n",
              "      margin-bottom: 4px;\n",
              "    }\n",
              "\n",
              "    [theme=dark] .colab-df-convert {\n",
              "      background-color: #3B4455;\n",
              "      fill: #D2E3FC;\n",
              "    }\n",
              "\n",
              "    [theme=dark] .colab-df-convert:hover {\n",
              "      background-color: #434B5C;\n",
              "      box-shadow: 0px 1px 3px 1px rgba(0, 0, 0, 0.15);\n",
              "      filter: drop-shadow(0px 1px 2px rgba(0, 0, 0, 0.3));\n",
              "      fill: #FFFFFF;\n",
              "    }\n",
              "  </style>\n",
              "\n",
              "    <script>\n",
              "      const buttonEl =\n",
              "        document.querySelector('#df-51a3591c-756e-49a6-871b-d4068e10f307 button.colab-df-convert');\n",
              "      buttonEl.style.display =\n",
              "        google.colab.kernel.accessAllowed ? 'block' : 'none';\n",
              "\n",
              "      async function convertToInteractive(key) {\n",
              "        const element = document.querySelector('#df-51a3591c-756e-49a6-871b-d4068e10f307');\n",
              "        const dataTable =\n",
              "          await google.colab.kernel.invokeFunction('convertToInteractive',\n",
              "                                                    [key], {});\n",
              "        if (!dataTable) return;\n",
              "\n",
              "        const docLinkHtml = 'Like what you see? Visit the ' +\n",
              "          '<a target=\"_blank\" href=https://colab.research.google.com/notebooks/data_table.ipynb>data table notebook</a>'\n",
              "          + ' to learn more about interactive tables.';\n",
              "        element.innerHTML = '';\n",
              "        dataTable['output_type'] = 'display_data';\n",
              "        await google.colab.output.renderOutput(dataTable, element);\n",
              "        const docLink = document.createElement('div');\n",
              "        docLink.innerHTML = docLinkHtml;\n",
              "        element.appendChild(docLink);\n",
              "      }\n",
              "    </script>\n",
              "  </div>\n",
              "\n",
              "\n",
              "<div id=\"df-74e44e25-deb4-4f5a-8e5f-08c0dd463eb6\">\n",
              "  <button class=\"colab-df-quickchart\" onclick=\"quickchart('df-74e44e25-deb4-4f5a-8e5f-08c0dd463eb6')\"\n",
              "            title=\"Suggest charts\"\n",
              "            style=\"display:none;\">\n",
              "\n",
              "<svg xmlns=\"http://www.w3.org/2000/svg\" height=\"24px\"viewBox=\"0 0 24 24\"\n",
              "     width=\"24px\">\n",
              "    <g>\n",
              "        <path d=\"M19 3H5c-1.1 0-2 .9-2 2v14c0 1.1.9 2 2 2h14c1.1 0 2-.9 2-2V5c0-1.1-.9-2-2-2zM9 17H7v-7h2v7zm4 0h-2V7h2v10zm4 0h-2v-4h2v4z\"/>\n",
              "    </g>\n",
              "</svg>\n",
              "  </button>\n",
              "\n",
              "<style>\n",
              "  .colab-df-quickchart {\n",
              "      --bg-color: #E8F0FE;\n",
              "      --fill-color: #1967D2;\n",
              "      --hover-bg-color: #E2EBFA;\n",
              "      --hover-fill-color: #174EA6;\n",
              "      --disabled-fill-color: #AAA;\n",
              "      --disabled-bg-color: #DDD;\n",
              "  }\n",
              "\n",
              "  [theme=dark] .colab-df-quickchart {\n",
              "      --bg-color: #3B4455;\n",
              "      --fill-color: #D2E3FC;\n",
              "      --hover-bg-color: #434B5C;\n",
              "      --hover-fill-color: #FFFFFF;\n",
              "      --disabled-bg-color: #3B4455;\n",
              "      --disabled-fill-color: #666;\n",
              "  }\n",
              "\n",
              "  .colab-df-quickchart {\n",
              "    background-color: var(--bg-color);\n",
              "    border: none;\n",
              "    border-radius: 50%;\n",
              "    cursor: pointer;\n",
              "    display: none;\n",
              "    fill: var(--fill-color);\n",
              "    height: 32px;\n",
              "    padding: 0;\n",
              "    width: 32px;\n",
              "  }\n",
              "\n",
              "  .colab-df-quickchart:hover {\n",
              "    background-color: var(--hover-bg-color);\n",
              "    box-shadow: 0 1px 2px rgba(60, 64, 67, 0.3), 0 1px 3px 1px rgba(60, 64, 67, 0.15);\n",
              "    fill: var(--button-hover-fill-color);\n",
              "  }\n",
              "\n",
              "  .colab-df-quickchart-complete:disabled,\n",
              "  .colab-df-quickchart-complete:disabled:hover {\n",
              "    background-color: var(--disabled-bg-color);\n",
              "    fill: var(--disabled-fill-color);\n",
              "    box-shadow: none;\n",
              "  }\n",
              "\n",
              "  .colab-df-spinner {\n",
              "    border: 2px solid var(--fill-color);\n",
              "    border-color: transparent;\n",
              "    border-bottom-color: var(--fill-color);\n",
              "    animation:\n",
              "      spin 1s steps(1) infinite;\n",
              "  }\n",
              "\n",
              "  @keyframes spin {\n",
              "    0% {\n",
              "      border-color: transparent;\n",
              "      border-bottom-color: var(--fill-color);\n",
              "      border-left-color: var(--fill-color);\n",
              "    }\n",
              "    20% {\n",
              "      border-color: transparent;\n",
              "      border-left-color: var(--fill-color);\n",
              "      border-top-color: var(--fill-color);\n",
              "    }\n",
              "    30% {\n",
              "      border-color: transparent;\n",
              "      border-left-color: var(--fill-color);\n",
              "      border-top-color: var(--fill-color);\n",
              "      border-right-color: var(--fill-color);\n",
              "    }\n",
              "    40% {\n",
              "      border-color: transparent;\n",
              "      border-right-color: var(--fill-color);\n",
              "      border-top-color: var(--fill-color);\n",
              "    }\n",
              "    60% {\n",
              "      border-color: transparent;\n",
              "      border-right-color: var(--fill-color);\n",
              "    }\n",
              "    80% {\n",
              "      border-color: transparent;\n",
              "      border-right-color: var(--fill-color);\n",
              "      border-bottom-color: var(--fill-color);\n",
              "    }\n",
              "    90% {\n",
              "      border-color: transparent;\n",
              "      border-bottom-color: var(--fill-color);\n",
              "    }\n",
              "  }\n",
              "</style>\n",
              "\n",
              "  <script>\n",
              "    async function quickchart(key) {\n",
              "      const quickchartButtonEl =\n",
              "        document.querySelector('#' + key + ' button');\n",
              "      quickchartButtonEl.disabled = true;  // To prevent multiple clicks.\n",
              "      quickchartButtonEl.classList.add('colab-df-spinner');\n",
              "      try {\n",
              "        const charts = await google.colab.kernel.invokeFunction(\n",
              "            'suggestCharts', [key], {});\n",
              "      } catch (error) {\n",
              "        console.error('Error during call to suggestCharts:', error);\n",
              "      }\n",
              "      quickchartButtonEl.classList.remove('colab-df-spinner');\n",
              "      quickchartButtonEl.classList.add('colab-df-quickchart-complete');\n",
              "    }\n",
              "    (() => {\n",
              "      let quickchartButtonEl =\n",
              "        document.querySelector('#df-74e44e25-deb4-4f5a-8e5f-08c0dd463eb6 button');\n",
              "      quickchartButtonEl.style.display =\n",
              "        google.colab.kernel.accessAllowed ? 'block' : 'none';\n",
              "    })();\n",
              "  </script>\n",
              "</div>\n",
              "\n",
              "    </div>\n",
              "  </div>\n"
            ],
            "application/vnd.google.colaboratory.intrinsic+json": {
              "type": "dataframe",
              "repr_error": "0"
            }
          },
          "metadata": {},
          "execution_count": 15
        }
      ],
      "source": [
        "df.sample(10)"
      ]
    },
    {
      "cell_type": "code",
      "execution_count": 16,
      "id": "7c7a2e89",
      "metadata": {
        "execution": {
          "iopub.execute_input": "2023-09-13T18:55:41.292632Z",
          "iopub.status.busy": "2023-09-13T18:55:41.291762Z",
          "iopub.status.idle": "2023-09-13T18:55:41.512152Z",
          "shell.execute_reply": "2023-09-13T18:55:41.510737Z"
        },
        "papermill": {
          "duration": 0.283735,
          "end_time": "2023-09-13T18:55:41.515200",
          "exception": false,
          "start_time": "2023-09-13T18:55:41.231465",
          "status": "completed"
        },
        "tags": [],
        "colab": {
          "base_uri": "https://localhost:8080/"
        },
        "id": "7c7a2e89",
        "outputId": "75ae2117-8673-41e8-f78f-8c0b64398d4f"
      },
      "outputs": [
        {
          "output_type": "execute_result",
          "data": {
            "text/plain": [
              "0"
            ]
          },
          "metadata": {},
          "execution_count": 16
        }
      ],
      "source": [
        "# Verifying the removal of missing values\n",
        "df.isnull().sum().sum()"
      ]
    },
    {
      "cell_type": "markdown",
      "id": "29966208",
      "metadata": {
        "papermill": {
          "duration": 0.056893,
          "end_time": "2023-09-13T18:55:41.630113",
          "exception": false,
          "start_time": "2023-09-13T18:55:41.573220",
          "status": "completed"
        },
        "tags": [],
        "id": "29966208"
      },
      "source": [
        "<a id=\"duplicates\"></a>\n",
        "# <b><span style='color:#fcc36d'>Step 3.2 |</span><span style='color:#ff6200'> Handling Duplicates</span></b>\n",
        "⬆️ [Tabel of Contents](#contents_tabel)"
      ]
    },
    {
      "cell_type": "markdown",
      "id": "d2c36b71",
      "metadata": {
        "papermill": {
          "duration": 0.059306,
          "end_time": "2023-09-13T18:55:41.748028",
          "exception": false,
          "start_time": "2023-09-13T18:55:41.688722",
          "status": "completed"
        },
        "tags": [],
        "id": "d2c36b71"
      },
      "source": [
        "<div style=\"border-radius:10px; padding: 15px; background-color: #ffeacc; font-size:120%; text-align:left\">\n",
        "    \n",
        "Next, we are going to recognize duplicate rows in the dataset:"
      ]
    },
    {
      "cell_type": "code",
      "execution_count": 17,
      "id": "b5d579fb",
      "metadata": {
        "execution": {
          "iopub.execute_input": "2023-09-13T18:55:41.865859Z",
          "iopub.status.busy": "2023-09-13T18:55:41.865403Z",
          "iopub.status.idle": "2023-09-13T18:55:42.307526Z",
          "shell.execute_reply": "2023-09-13T18:55:42.306095Z"
        },
        "papermill": {
          "duration": 0.505381,
          "end_time": "2023-09-13T18:55:42.311188",
          "exception": false,
          "start_time": "2023-09-13T18:55:41.805807",
          "status": "completed"
        },
        "tags": [],
        "colab": {
          "base_uri": "https://localhost:8080/",
          "height": 903
        },
        "id": "b5d579fb",
        "outputId": "2848e3b9-44b5-4376-b77a-3c6646c6105f"
      },
      "outputs": [
        {
          "output_type": "execute_result",
          "data": {
            "text/plain": [
              "    InvoiceNo StockCode                       Description  Quantity  \\\n",
              "494    536409     21866       UNION JACK FLAG LUGGAGE TAG       1.0   \n",
              "517    536409     21866       UNION JACK FLAG LUGGAGE TAG       1.0   \n",
              "485    536409     22111      SCOTTIE DOG HOT WATER BOTTLE       1.0   \n",
              "539    536409     22111      SCOTTIE DOG HOT WATER BOTTLE       1.0   \n",
              "489    536409     22866     HAND WARMER SCOTTY DOG DESIGN       1.0   \n",
              "527    536409     22866     HAND WARMER SCOTTY DOG DESIGN       1.0   \n",
              "521    536409     22900   SET 2 TEA TOWELS I LOVE LONDON        1.0   \n",
              "537    536409     22900   SET 2 TEA TOWELS I LOVE LONDON        1.0   \n",
              "578    536412     21448         12 DAISY PEGS IN WOOD BOX       1.0   \n",
              "598    536412     21448         12 DAISY PEGS IN WOOD BOX       1.0   \n",
              "\n",
              "         InvoiceDate  UnitPrice  CustomerID         Country  \n",
              "494  12/1/2010 11:45       1.25     17908.0  United Kingdom  \n",
              "517  12/1/2010 11:45       1.25     17908.0  United Kingdom  \n",
              "485  12/1/2010 11:45       4.95     17908.0  United Kingdom  \n",
              "539  12/1/2010 11:45       4.95     17908.0  United Kingdom  \n",
              "489  12/1/2010 11:45       2.10     17908.0  United Kingdom  \n",
              "527  12/1/2010 11:45       2.10     17908.0  United Kingdom  \n",
              "521  12/1/2010 11:45       2.95     17908.0  United Kingdom  \n",
              "537  12/1/2010 11:45       2.95     17908.0  United Kingdom  \n",
              "578  12/1/2010 11:49       1.65     17920.0  United Kingdom  \n",
              "598  12/1/2010 11:49       1.65     17920.0  United Kingdom  "
            ],
            "text/html": [
              "\n",
              "  <div id=\"df-d1228d9e-5df7-4ecb-a951-300d2a008c8d\" class=\"colab-df-container\">\n",
              "    <div>\n",
              "<style scoped>\n",
              "    .dataframe tbody tr th:only-of-type {\n",
              "        vertical-align: middle;\n",
              "    }\n",
              "\n",
              "    .dataframe tbody tr th {\n",
              "        vertical-align: top;\n",
              "    }\n",
              "\n",
              "    .dataframe thead th {\n",
              "        text-align: right;\n",
              "    }\n",
              "</style>\n",
              "<table border=\"1\" class=\"dataframe\">\n",
              "  <thead>\n",
              "    <tr style=\"text-align: right;\">\n",
              "      <th></th>\n",
              "      <th>InvoiceNo</th>\n",
              "      <th>StockCode</th>\n",
              "      <th>Description</th>\n",
              "      <th>Quantity</th>\n",
              "      <th>InvoiceDate</th>\n",
              "      <th>UnitPrice</th>\n",
              "      <th>CustomerID</th>\n",
              "      <th>Country</th>\n",
              "    </tr>\n",
              "  </thead>\n",
              "  <tbody>\n",
              "    <tr>\n",
              "      <th>494</th>\n",
              "      <td>536409</td>\n",
              "      <td>21866</td>\n",
              "      <td>UNION JACK FLAG LUGGAGE TAG</td>\n",
              "      <td>1.0</td>\n",
              "      <td>12/1/2010 11:45</td>\n",
              "      <td>1.25</td>\n",
              "      <td>17908.0</td>\n",
              "      <td>United Kingdom</td>\n",
              "    </tr>\n",
              "    <tr>\n",
              "      <th>517</th>\n",
              "      <td>536409</td>\n",
              "      <td>21866</td>\n",
              "      <td>UNION JACK FLAG LUGGAGE TAG</td>\n",
              "      <td>1.0</td>\n",
              "      <td>12/1/2010 11:45</td>\n",
              "      <td>1.25</td>\n",
              "      <td>17908.0</td>\n",
              "      <td>United Kingdom</td>\n",
              "    </tr>\n",
              "    <tr>\n",
              "      <th>485</th>\n",
              "      <td>536409</td>\n",
              "      <td>22111</td>\n",
              "      <td>SCOTTIE DOG HOT WATER BOTTLE</td>\n",
              "      <td>1.0</td>\n",
              "      <td>12/1/2010 11:45</td>\n",
              "      <td>4.95</td>\n",
              "      <td>17908.0</td>\n",
              "      <td>United Kingdom</td>\n",
              "    </tr>\n",
              "    <tr>\n",
              "      <th>539</th>\n",
              "      <td>536409</td>\n",
              "      <td>22111</td>\n",
              "      <td>SCOTTIE DOG HOT WATER BOTTLE</td>\n",
              "      <td>1.0</td>\n",
              "      <td>12/1/2010 11:45</td>\n",
              "      <td>4.95</td>\n",
              "      <td>17908.0</td>\n",
              "      <td>United Kingdom</td>\n",
              "    </tr>\n",
              "    <tr>\n",
              "      <th>489</th>\n",
              "      <td>536409</td>\n",
              "      <td>22866</td>\n",
              "      <td>HAND WARMER SCOTTY DOG DESIGN</td>\n",
              "      <td>1.0</td>\n",
              "      <td>12/1/2010 11:45</td>\n",
              "      <td>2.10</td>\n",
              "      <td>17908.0</td>\n",
              "      <td>United Kingdom</td>\n",
              "    </tr>\n",
              "    <tr>\n",
              "      <th>527</th>\n",
              "      <td>536409</td>\n",
              "      <td>22866</td>\n",
              "      <td>HAND WARMER SCOTTY DOG DESIGN</td>\n",
              "      <td>1.0</td>\n",
              "      <td>12/1/2010 11:45</td>\n",
              "      <td>2.10</td>\n",
              "      <td>17908.0</td>\n",
              "      <td>United Kingdom</td>\n",
              "    </tr>\n",
              "    <tr>\n",
              "      <th>521</th>\n",
              "      <td>536409</td>\n",
              "      <td>22900</td>\n",
              "      <td>SET 2 TEA TOWELS I LOVE LONDON</td>\n",
              "      <td>1.0</td>\n",
              "      <td>12/1/2010 11:45</td>\n",
              "      <td>2.95</td>\n",
              "      <td>17908.0</td>\n",
              "      <td>United Kingdom</td>\n",
              "    </tr>\n",
              "    <tr>\n",
              "      <th>537</th>\n",
              "      <td>536409</td>\n",
              "      <td>22900</td>\n",
              "      <td>SET 2 TEA TOWELS I LOVE LONDON</td>\n",
              "      <td>1.0</td>\n",
              "      <td>12/1/2010 11:45</td>\n",
              "      <td>2.95</td>\n",
              "      <td>17908.0</td>\n",
              "      <td>United Kingdom</td>\n",
              "    </tr>\n",
              "    <tr>\n",
              "      <th>578</th>\n",
              "      <td>536412</td>\n",
              "      <td>21448</td>\n",
              "      <td>12 DAISY PEGS IN WOOD BOX</td>\n",
              "      <td>1.0</td>\n",
              "      <td>12/1/2010 11:49</td>\n",
              "      <td>1.65</td>\n",
              "      <td>17920.0</td>\n",
              "      <td>United Kingdom</td>\n",
              "    </tr>\n",
              "    <tr>\n",
              "      <th>598</th>\n",
              "      <td>536412</td>\n",
              "      <td>21448</td>\n",
              "      <td>12 DAISY PEGS IN WOOD BOX</td>\n",
              "      <td>1.0</td>\n",
              "      <td>12/1/2010 11:49</td>\n",
              "      <td>1.65</td>\n",
              "      <td>17920.0</td>\n",
              "      <td>United Kingdom</td>\n",
              "    </tr>\n",
              "  </tbody>\n",
              "</table>\n",
              "</div>\n",
              "    <div class=\"colab-df-buttons\">\n",
              "\n",
              "  <div class=\"colab-df-container\">\n",
              "    <button class=\"colab-df-convert\" onclick=\"convertToInteractive('df-d1228d9e-5df7-4ecb-a951-300d2a008c8d')\"\n",
              "            title=\"Convert this dataframe to an interactive table.\"\n",
              "            style=\"display:none;\">\n",
              "\n",
              "  <svg xmlns=\"http://www.w3.org/2000/svg\" height=\"24px\" viewBox=\"0 -960 960 960\">\n",
              "    <path d=\"M120-120v-720h720v720H120Zm60-500h600v-160H180v160Zm220 220h160v-160H400v160Zm0 220h160v-160H400v160ZM180-400h160v-160H180v160Zm440 0h160v-160H620v160ZM180-180h160v-160H180v160Zm440 0h160v-160H620v160Z\"/>\n",
              "  </svg>\n",
              "    </button>\n",
              "\n",
              "  <style>\n",
              "    .colab-df-container {\n",
              "      display:flex;\n",
              "      gap: 12px;\n",
              "    }\n",
              "\n",
              "    .colab-df-convert {\n",
              "      background-color: #E8F0FE;\n",
              "      border: none;\n",
              "      border-radius: 50%;\n",
              "      cursor: pointer;\n",
              "      display: none;\n",
              "      fill: #1967D2;\n",
              "      height: 32px;\n",
              "      padding: 0 0 0 0;\n",
              "      width: 32px;\n",
              "    }\n",
              "\n",
              "    .colab-df-convert:hover {\n",
              "      background-color: #E2EBFA;\n",
              "      box-shadow: 0px 1px 2px rgba(60, 64, 67, 0.3), 0px 1px 3px 1px rgba(60, 64, 67, 0.15);\n",
              "      fill: #174EA6;\n",
              "    }\n",
              "\n",
              "    .colab-df-buttons div {\n",
              "      margin-bottom: 4px;\n",
              "    }\n",
              "\n",
              "    [theme=dark] .colab-df-convert {\n",
              "      background-color: #3B4455;\n",
              "      fill: #D2E3FC;\n",
              "    }\n",
              "\n",
              "    [theme=dark] .colab-df-convert:hover {\n",
              "      background-color: #434B5C;\n",
              "      box-shadow: 0px 1px 3px 1px rgba(0, 0, 0, 0.15);\n",
              "      filter: drop-shadow(0px 1px 2px rgba(0, 0, 0, 0.3));\n",
              "      fill: #FFFFFF;\n",
              "    }\n",
              "  </style>\n",
              "\n",
              "    <script>\n",
              "      const buttonEl =\n",
              "        document.querySelector('#df-d1228d9e-5df7-4ecb-a951-300d2a008c8d button.colab-df-convert');\n",
              "      buttonEl.style.display =\n",
              "        google.colab.kernel.accessAllowed ? 'block' : 'none';\n",
              "\n",
              "      async function convertToInteractive(key) {\n",
              "        const element = document.querySelector('#df-d1228d9e-5df7-4ecb-a951-300d2a008c8d');\n",
              "        const dataTable =\n",
              "          await google.colab.kernel.invokeFunction('convertToInteractive',\n",
              "                                                    [key], {});\n",
              "        if (!dataTable) return;\n",
              "\n",
              "        const docLinkHtml = 'Like what you see? Visit the ' +\n",
              "          '<a target=\"_blank\" href=https://colab.research.google.com/notebooks/data_table.ipynb>data table notebook</a>'\n",
              "          + ' to learn more about interactive tables.';\n",
              "        element.innerHTML = '';\n",
              "        dataTable['output_type'] = 'display_data';\n",
              "        await google.colab.output.renderOutput(dataTable, element);\n",
              "        const docLink = document.createElement('div');\n",
              "        docLink.innerHTML = docLinkHtml;\n",
              "        element.appendChild(docLink);\n",
              "      }\n",
              "    </script>\n",
              "  </div>\n",
              "\n",
              "\n",
              "<div id=\"df-7afaab3e-e37b-4f6e-9a7a-0cb9787bcef5\">\n",
              "  <button class=\"colab-df-quickchart\" onclick=\"quickchart('df-7afaab3e-e37b-4f6e-9a7a-0cb9787bcef5')\"\n",
              "            title=\"Suggest charts\"\n",
              "            style=\"display:none;\">\n",
              "\n",
              "<svg xmlns=\"http://www.w3.org/2000/svg\" height=\"24px\"viewBox=\"0 0 24 24\"\n",
              "     width=\"24px\">\n",
              "    <g>\n",
              "        <path d=\"M19 3H5c-1.1 0-2 .9-2 2v14c0 1.1.9 2 2 2h14c1.1 0 2-.9 2-2V5c0-1.1-.9-2-2-2zM9 17H7v-7h2v7zm4 0h-2V7h2v10zm4 0h-2v-4h2v4z\"/>\n",
              "    </g>\n",
              "</svg>\n",
              "  </button>\n",
              "\n",
              "<style>\n",
              "  .colab-df-quickchart {\n",
              "      --bg-color: #E8F0FE;\n",
              "      --fill-color: #1967D2;\n",
              "      --hover-bg-color: #E2EBFA;\n",
              "      --hover-fill-color: #174EA6;\n",
              "      --disabled-fill-color: #AAA;\n",
              "      --disabled-bg-color: #DDD;\n",
              "  }\n",
              "\n",
              "  [theme=dark] .colab-df-quickchart {\n",
              "      --bg-color: #3B4455;\n",
              "      --fill-color: #D2E3FC;\n",
              "      --hover-bg-color: #434B5C;\n",
              "      --hover-fill-color: #FFFFFF;\n",
              "      --disabled-bg-color: #3B4455;\n",
              "      --disabled-fill-color: #666;\n",
              "  }\n",
              "\n",
              "  .colab-df-quickchart {\n",
              "    background-color: var(--bg-color);\n",
              "    border: none;\n",
              "    border-radius: 50%;\n",
              "    cursor: pointer;\n",
              "    display: none;\n",
              "    fill: var(--fill-color);\n",
              "    height: 32px;\n",
              "    padding: 0;\n",
              "    width: 32px;\n",
              "  }\n",
              "\n",
              "  .colab-df-quickchart:hover {\n",
              "    background-color: var(--hover-bg-color);\n",
              "    box-shadow: 0 1px 2px rgba(60, 64, 67, 0.3), 0 1px 3px 1px rgba(60, 64, 67, 0.15);\n",
              "    fill: var(--button-hover-fill-color);\n",
              "  }\n",
              "\n",
              "  .colab-df-quickchart-complete:disabled,\n",
              "  .colab-df-quickchart-complete:disabled:hover {\n",
              "    background-color: var(--disabled-bg-color);\n",
              "    fill: var(--disabled-fill-color);\n",
              "    box-shadow: none;\n",
              "  }\n",
              "\n",
              "  .colab-df-spinner {\n",
              "    border: 2px solid var(--fill-color);\n",
              "    border-color: transparent;\n",
              "    border-bottom-color: var(--fill-color);\n",
              "    animation:\n",
              "      spin 1s steps(1) infinite;\n",
              "  }\n",
              "\n",
              "  @keyframes spin {\n",
              "    0% {\n",
              "      border-color: transparent;\n",
              "      border-bottom-color: var(--fill-color);\n",
              "      border-left-color: var(--fill-color);\n",
              "    }\n",
              "    20% {\n",
              "      border-color: transparent;\n",
              "      border-left-color: var(--fill-color);\n",
              "      border-top-color: var(--fill-color);\n",
              "    }\n",
              "    30% {\n",
              "      border-color: transparent;\n",
              "      border-left-color: var(--fill-color);\n",
              "      border-top-color: var(--fill-color);\n",
              "      border-right-color: var(--fill-color);\n",
              "    }\n",
              "    40% {\n",
              "      border-color: transparent;\n",
              "      border-right-color: var(--fill-color);\n",
              "      border-top-color: var(--fill-color);\n",
              "    }\n",
              "    60% {\n",
              "      border-color: transparent;\n",
              "      border-right-color: var(--fill-color);\n",
              "    }\n",
              "    80% {\n",
              "      border-color: transparent;\n",
              "      border-right-color: var(--fill-color);\n",
              "      border-bottom-color: var(--fill-color);\n",
              "    }\n",
              "    90% {\n",
              "      border-color: transparent;\n",
              "      border-bottom-color: var(--fill-color);\n",
              "    }\n",
              "  }\n",
              "</style>\n",
              "\n",
              "  <script>\n",
              "    async function quickchart(key) {\n",
              "      const quickchartButtonEl =\n",
              "        document.querySelector('#' + key + ' button');\n",
              "      quickchartButtonEl.disabled = true;  // To prevent multiple clicks.\n",
              "      quickchartButtonEl.classList.add('colab-df-spinner');\n",
              "      try {\n",
              "        const charts = await google.colab.kernel.invokeFunction(\n",
              "            'suggestCharts', [key], {});\n",
              "      } catch (error) {\n",
              "        console.error('Error during call to suggestCharts:', error);\n",
              "      }\n",
              "      quickchartButtonEl.classList.remove('colab-df-spinner');\n",
              "      quickchartButtonEl.classList.add('colab-df-quickchart-complete');\n",
              "    }\n",
              "    (() => {\n",
              "      let quickchartButtonEl =\n",
              "        document.querySelector('#df-7afaab3e-e37b-4f6e-9a7a-0cb9787bcef5 button');\n",
              "      quickchartButtonEl.style.display =\n",
              "        google.colab.kernel.accessAllowed ? 'block' : 'none';\n",
              "    })();\n",
              "  </script>\n",
              "</div>\n",
              "\n",
              "    </div>\n",
              "  </div>\n"
            ],
            "application/vnd.google.colaboratory.intrinsic+json": {
              "type": "dataframe",
              "variable_name": "duplicate_rows_sorted",
              "repr_error": "0"
            }
          },
          "metadata": {},
          "execution_count": 17
        }
      ],
      "source": [
        "# Finding duplicate rows (keeping all instances)\n",
        "duplicate_rows = df[df.duplicated(keep=False)]\n",
        "\n",
        "# Sorting the data by certain columns to see the duplicate rows next to each other\n",
        "duplicate_rows_sorted = duplicate_rows.sort_values(by=['InvoiceNo', 'StockCode', 'Description', 'CustomerID', 'Quantity'])\n",
        "\n",
        "# Displaying the first 10 records\n",
        "duplicate_rows_sorted.head(10)"
      ]
    },
    {
      "cell_type": "markdown",
      "id": "f20175f9",
      "metadata": {
        "papermill": {
          "duration": 0.059643,
          "end_time": "2023-09-13T18:55:42.430422",
          "exception": false,
          "start_time": "2023-09-13T18:55:42.370779",
          "status": "completed"
        },
        "tags": [],
        "id": "f20175f9"
      },
      "source": [
        "<div style=\"border-radius:10px; padding: 15px; background-color: #ffeacc; font-size:120%; text-align:left\">\n",
        "\n",
        "<h3 align=\"left\"><font color=#ff6200>Handling Duplicates Strategy:</font></h3>\n",
        "    \n",
        "In the context of this project, the presence of completely identical rows, including identical transaction times, suggests that these might be data recording errors rather than genuine repeated transactions. Keeping these duplicate rows can introduce noise and potential inaccuracies in the clustering and recommendation system.\n",
        "\n",
        "Therefore, I am going to remove these completely identical duplicate rows from the dataset. Removing these rows will help in achieving a cleaner dataset, which in turn would aid in building more accurate customer clusters based on their unique purchasing behaviors. Moreover, it would help in creating a more precise recommendation system by correctly identifying the products with the most purchases."
      ]
    },
    {
      "cell_type": "code",
      "execution_count": 18,
      "id": "82d2b098",
      "metadata": {
        "execution": {
          "iopub.execute_input": "2023-09-13T18:55:42.551671Z",
          "iopub.status.busy": "2023-09-13T18:55:42.550304Z",
          "iopub.status.idle": "2023-09-13T18:55:43.340911Z",
          "shell.execute_reply": "2023-09-13T18:55:43.339397Z"
        },
        "papermill": {
          "duration": 0.854262,
          "end_time": "2023-09-13T18:55:43.343966",
          "exception": false,
          "start_time": "2023-09-13T18:55:42.489704",
          "status": "completed"
        },
        "tags": [],
        "colab": {
          "base_uri": "https://localhost:8080/"
        },
        "id": "82d2b098",
        "outputId": "52ff15af-3b09-4e6f-e5f2-084f44d81847"
      },
      "outputs": [
        {
          "output_type": "stream",
          "name": "stdout",
          "text": [
            "The dataset contains 2498 duplicate rows that need to be removed.\n"
          ]
        }
      ],
      "source": [
        "# Displaying the number of duplicate rows\n",
        "print(f\"The dataset contains {df.duplicated().sum()} duplicate rows that need to be removed.\")\n",
        "\n",
        "# Removing duplicate rows\n",
        "df.drop_duplicates(inplace=True)"
      ]
    },
    {
      "cell_type": "code",
      "execution_count": 19,
      "id": "96102471",
      "metadata": {
        "execution": {
          "iopub.execute_input": "2023-09-13T18:55:43.466796Z",
          "iopub.status.busy": "2023-09-13T18:55:43.466337Z",
          "iopub.status.idle": "2023-09-13T18:55:43.475471Z",
          "shell.execute_reply": "2023-09-13T18:55:43.473542Z"
        },
        "papermill": {
          "duration": 0.073206,
          "end_time": "2023-09-13T18:55:43.478411",
          "exception": false,
          "start_time": "2023-09-13T18:55:43.405205",
          "status": "completed"
        },
        "tags": [],
        "colab": {
          "base_uri": "https://localhost:8080/"
        },
        "id": "96102471",
        "outputId": "95a08b2f-7975-4966-be83-bd41b3fae7d8"
      },
      "outputs": [
        {
          "output_type": "execute_result",
          "data": {
            "text/plain": [
              "233992"
            ]
          },
          "metadata": {},
          "execution_count": 19
        }
      ],
      "source": [
        "# Getting the number of rows in the dataframe\n",
        "df.shape[0]"
      ]
    },
    {
      "cell_type": "markdown",
      "id": "23ff4f89",
      "metadata": {
        "papermill": {
          "duration": 0.060407,
          "end_time": "2023-09-13T18:55:43.599222",
          "exception": false,
          "start_time": "2023-09-13T18:55:43.538815",
          "status": "completed"
        },
        "tags": [],
        "id": "23ff4f89"
      },
      "source": [
        "<a id=\"InvoiceNo_cleaning\"></a>\n",
        "# <b><span style='color:#fcc36d'>Step 3.3 |</span><span style='color:#ff6200'> Treating Cancelled Transactions</span></b>\n",
        "⬆️ [Tabel of Contents](#contents_tabel)"
      ]
    },
    {
      "cell_type": "markdown",
      "id": "30afd646",
      "metadata": {
        "papermill": {
          "duration": 0.07041,
          "end_time": "2023-09-13T18:55:43.749148",
          "exception": false,
          "start_time": "2023-09-13T18:55:43.678738",
          "status": "completed"
        },
        "tags": [],
        "id": "30afd646"
      },
      "source": [
        "<div style=\"border-radius:10px; padding: 15px; background-color: #ffeacc; font-size:120%; text-align:left\">\n",
        "\n",
        "To refine our understanding of customer behavior and preferences, we need to take into account the transactions that were cancelled. Initially, we will identify these transactions by filtering the rows where the `InvoiceNo` starts with \"C\". Subsequently, we will analyze these rows to understand their common characteristics or patterns:"
      ]
    },
    {
      "cell_type": "code",
      "execution_count": 20,
      "id": "19e11e75",
      "metadata": {
        "execution": {
          "iopub.execute_input": "2023-09-13T18:55:43.869398Z",
          "iopub.status.busy": "2023-09-13T18:55:43.868914Z",
          "iopub.status.idle": "2023-09-13T18:55:44.291247Z",
          "shell.execute_reply": "2023-09-13T18:55:44.289685Z"
        },
        "papermill": {
          "duration": 0.486159,
          "end_time": "2023-09-13T18:55:44.294362",
          "exception": false,
          "start_time": "2023-09-13T18:55:43.808203",
          "status": "completed"
        },
        "tags": [],
        "id": "19e11e75",
        "outputId": "8ae3f86e-2d9d-4222-cf3f-be1e890e0b45",
        "colab": {
          "base_uri": "https://localhost:8080/",
          "height": 224
        }
      },
      "outputs": [
        {
          "output_type": "execute_result",
          "data": {
            "text/plain": [
              "                    Quantity                                                   \\\n",
              "                       count       mean          std      min  25%  50%   75%   \n",
              "Transaction_Status                                                              \n",
              "Cancelled             5592.0 -26.420780  1002.979222 -74215.0 -6.0 -2.0  -1.0   \n",
              "Completed           228400.0  13.717947   161.870554      1.0  2.0  6.0  12.0   \n",
              "\n",
              "                            UnitPrice             ...                  \\\n",
              "                        max     count       mean  ...   75%       max   \n",
              "Transaction_Status                                ...                   \n",
              "Cancelled              -1.0    5592.0  22.855739  ...  5.95  38970.00   \n",
              "Completed           74215.0  228400.0   3.192658  ...  3.75   8142.75   \n",
              "\n",
              "                   CustomerID                                               \\\n",
              "                        count          mean          std      min      25%   \n",
              "Transaction_Status                                                           \n",
              "Cancelled              5592.0  15001.901288  1735.691257  12346.0  13495.0   \n",
              "Completed            228400.0  15278.958954  1726.082281  12346.0  13865.0   \n",
              "\n",
              "                                               \n",
              "                        50%      75%      max  \n",
              "Transaction_Status                             \n",
              "Cancelled           14845.5  16525.0  18282.0  \n",
              "Completed           15150.0  16810.0  18287.0  \n",
              "\n",
              "[2 rows x 24 columns]"
            ],
            "text/html": [
              "\n",
              "  <div id=\"df-800f6f4d-fa93-4050-9bea-3de70b77bbde\" class=\"colab-df-container\">\n",
              "    <div>\n",
              "<style scoped>\n",
              "    .dataframe tbody tr th:only-of-type {\n",
              "        vertical-align: middle;\n",
              "    }\n",
              "\n",
              "    .dataframe tbody tr th {\n",
              "        vertical-align: top;\n",
              "    }\n",
              "\n",
              "    .dataframe thead tr th {\n",
              "        text-align: left;\n",
              "    }\n",
              "\n",
              "    .dataframe thead tr:last-of-type th {\n",
              "        text-align: right;\n",
              "    }\n",
              "</style>\n",
              "<table border=\"1\" class=\"dataframe\">\n",
              "  <thead>\n",
              "    <tr>\n",
              "      <th></th>\n",
              "      <th colspan=\"8\" halign=\"left\">Quantity</th>\n",
              "      <th colspan=\"5\" halign=\"left\">UnitPrice</th>\n",
              "      <th colspan=\"8\" halign=\"left\">CustomerID</th>\n",
              "    </tr>\n",
              "    <tr>\n",
              "      <th></th>\n",
              "      <th>count</th>\n",
              "      <th>mean</th>\n",
              "      <th>std</th>\n",
              "      <th>min</th>\n",
              "      <th>25%</th>\n",
              "      <th>50%</th>\n",
              "      <th>75%</th>\n",
              "      <th>max</th>\n",
              "      <th>count</th>\n",
              "      <th>mean</th>\n",
              "      <th>...</th>\n",
              "      <th>75%</th>\n",
              "      <th>max</th>\n",
              "      <th>count</th>\n",
              "      <th>mean</th>\n",
              "      <th>std</th>\n",
              "      <th>min</th>\n",
              "      <th>25%</th>\n",
              "      <th>50%</th>\n",
              "      <th>75%</th>\n",
              "      <th>max</th>\n",
              "    </tr>\n",
              "    <tr>\n",
              "      <th>Transaction_Status</th>\n",
              "      <th></th>\n",
              "      <th></th>\n",
              "      <th></th>\n",
              "      <th></th>\n",
              "      <th></th>\n",
              "      <th></th>\n",
              "      <th></th>\n",
              "      <th></th>\n",
              "      <th></th>\n",
              "      <th></th>\n",
              "      <th></th>\n",
              "      <th></th>\n",
              "      <th></th>\n",
              "      <th></th>\n",
              "      <th></th>\n",
              "      <th></th>\n",
              "      <th></th>\n",
              "      <th></th>\n",
              "      <th></th>\n",
              "      <th></th>\n",
              "      <th></th>\n",
              "    </tr>\n",
              "  </thead>\n",
              "  <tbody>\n",
              "    <tr>\n",
              "      <th>Cancelled</th>\n",
              "      <td>5592.0</td>\n",
              "      <td>-26.420780</td>\n",
              "      <td>1002.979222</td>\n",
              "      <td>-74215.0</td>\n",
              "      <td>-6.0</td>\n",
              "      <td>-2.0</td>\n",
              "      <td>-1.0</td>\n",
              "      <td>-1.0</td>\n",
              "      <td>5592.0</td>\n",
              "      <td>22.855739</td>\n",
              "      <td>...</td>\n",
              "      <td>5.95</td>\n",
              "      <td>38970.00</td>\n",
              "      <td>5592.0</td>\n",
              "      <td>15001.901288</td>\n",
              "      <td>1735.691257</td>\n",
              "      <td>12346.0</td>\n",
              "      <td>13495.0</td>\n",
              "      <td>14845.5</td>\n",
              "      <td>16525.0</td>\n",
              "      <td>18282.0</td>\n",
              "    </tr>\n",
              "    <tr>\n",
              "      <th>Completed</th>\n",
              "      <td>228400.0</td>\n",
              "      <td>13.717947</td>\n",
              "      <td>161.870554</td>\n",
              "      <td>1.0</td>\n",
              "      <td>2.0</td>\n",
              "      <td>6.0</td>\n",
              "      <td>12.0</td>\n",
              "      <td>74215.0</td>\n",
              "      <td>228400.0</td>\n",
              "      <td>3.192658</td>\n",
              "      <td>...</td>\n",
              "      <td>3.75</td>\n",
              "      <td>8142.75</td>\n",
              "      <td>228400.0</td>\n",
              "      <td>15278.958954</td>\n",
              "      <td>1726.082281</td>\n",
              "      <td>12346.0</td>\n",
              "      <td>13865.0</td>\n",
              "      <td>15150.0</td>\n",
              "      <td>16810.0</td>\n",
              "      <td>18287.0</td>\n",
              "    </tr>\n",
              "  </tbody>\n",
              "</table>\n",
              "<p>2 rows × 24 columns</p>\n",
              "</div>\n",
              "    <div class=\"colab-df-buttons\">\n",
              "\n",
              "  <div class=\"colab-df-container\">\n",
              "    <button class=\"colab-df-convert\" onclick=\"convertToInteractive('df-800f6f4d-fa93-4050-9bea-3de70b77bbde')\"\n",
              "            title=\"Convert this dataframe to an interactive table.\"\n",
              "            style=\"display:none;\">\n",
              "\n",
              "  <svg xmlns=\"http://www.w3.org/2000/svg\" height=\"24px\" viewBox=\"0 -960 960 960\">\n",
              "    <path d=\"M120-120v-720h720v720H120Zm60-500h600v-160H180v160Zm220 220h160v-160H400v160Zm0 220h160v-160H400v160ZM180-400h160v-160H180v160Zm440 0h160v-160H620v160ZM180-180h160v-160H180v160Zm440 0h160v-160H620v160Z\"/>\n",
              "  </svg>\n",
              "    </button>\n",
              "\n",
              "  <style>\n",
              "    .colab-df-container {\n",
              "      display:flex;\n",
              "      gap: 12px;\n",
              "    }\n",
              "\n",
              "    .colab-df-convert {\n",
              "      background-color: #E8F0FE;\n",
              "      border: none;\n",
              "      border-radius: 50%;\n",
              "      cursor: pointer;\n",
              "      display: none;\n",
              "      fill: #1967D2;\n",
              "      height: 32px;\n",
              "      padding: 0 0 0 0;\n",
              "      width: 32px;\n",
              "    }\n",
              "\n",
              "    .colab-df-convert:hover {\n",
              "      background-color: #E2EBFA;\n",
              "      box-shadow: 0px 1px 2px rgba(60, 64, 67, 0.3), 0px 1px 3px 1px rgba(60, 64, 67, 0.15);\n",
              "      fill: #174EA6;\n",
              "    }\n",
              "\n",
              "    .colab-df-buttons div {\n",
              "      margin-bottom: 4px;\n",
              "    }\n",
              "\n",
              "    [theme=dark] .colab-df-convert {\n",
              "      background-color: #3B4455;\n",
              "      fill: #D2E3FC;\n",
              "    }\n",
              "\n",
              "    [theme=dark] .colab-df-convert:hover {\n",
              "      background-color: #434B5C;\n",
              "      box-shadow: 0px 1px 3px 1px rgba(0, 0, 0, 0.15);\n",
              "      filter: drop-shadow(0px 1px 2px rgba(0, 0, 0, 0.3));\n",
              "      fill: #FFFFFF;\n",
              "    }\n",
              "  </style>\n",
              "\n",
              "    <script>\n",
              "      const buttonEl =\n",
              "        document.querySelector('#df-800f6f4d-fa93-4050-9bea-3de70b77bbde button.colab-df-convert');\n",
              "      buttonEl.style.display =\n",
              "        google.colab.kernel.accessAllowed ? 'block' : 'none';\n",
              "\n",
              "      async function convertToInteractive(key) {\n",
              "        const element = document.querySelector('#df-800f6f4d-fa93-4050-9bea-3de70b77bbde');\n",
              "        const dataTable =\n",
              "          await google.colab.kernel.invokeFunction('convertToInteractive',\n",
              "                                                    [key], {});\n",
              "        if (!dataTable) return;\n",
              "\n",
              "        const docLinkHtml = 'Like what you see? Visit the ' +\n",
              "          '<a target=\"_blank\" href=https://colab.research.google.com/notebooks/data_table.ipynb>data table notebook</a>'\n",
              "          + ' to learn more about interactive tables.';\n",
              "        element.innerHTML = '';\n",
              "        dataTable['output_type'] = 'display_data';\n",
              "        await google.colab.output.renderOutput(dataTable, element);\n",
              "        const docLink = document.createElement('div');\n",
              "        docLink.innerHTML = docLinkHtml;\n",
              "        element.appendChild(docLink);\n",
              "      }\n",
              "    </script>\n",
              "  </div>\n",
              "\n",
              "\n",
              "<div id=\"df-e1e404dc-e44c-44d4-b6ec-7560d41bc1aa\">\n",
              "  <button class=\"colab-df-quickchart\" onclick=\"quickchart('df-e1e404dc-e44c-44d4-b6ec-7560d41bc1aa')\"\n",
              "            title=\"Suggest charts\"\n",
              "            style=\"display:none;\">\n",
              "\n",
              "<svg xmlns=\"http://www.w3.org/2000/svg\" height=\"24px\"viewBox=\"0 0 24 24\"\n",
              "     width=\"24px\">\n",
              "    <g>\n",
              "        <path d=\"M19 3H5c-1.1 0-2 .9-2 2v14c0 1.1.9 2 2 2h14c1.1 0 2-.9 2-2V5c0-1.1-.9-2-2-2zM9 17H7v-7h2v7zm4 0h-2V7h2v10zm4 0h-2v-4h2v4z\"/>\n",
              "    </g>\n",
              "</svg>\n",
              "  </button>\n",
              "\n",
              "<style>\n",
              "  .colab-df-quickchart {\n",
              "      --bg-color: #E8F0FE;\n",
              "      --fill-color: #1967D2;\n",
              "      --hover-bg-color: #E2EBFA;\n",
              "      --hover-fill-color: #174EA6;\n",
              "      --disabled-fill-color: #AAA;\n",
              "      --disabled-bg-color: #DDD;\n",
              "  }\n",
              "\n",
              "  [theme=dark] .colab-df-quickchart {\n",
              "      --bg-color: #3B4455;\n",
              "      --fill-color: #D2E3FC;\n",
              "      --hover-bg-color: #434B5C;\n",
              "      --hover-fill-color: #FFFFFF;\n",
              "      --disabled-bg-color: #3B4455;\n",
              "      --disabled-fill-color: #666;\n",
              "  }\n",
              "\n",
              "  .colab-df-quickchart {\n",
              "    background-color: var(--bg-color);\n",
              "    border: none;\n",
              "    border-radius: 50%;\n",
              "    cursor: pointer;\n",
              "    display: none;\n",
              "    fill: var(--fill-color);\n",
              "    height: 32px;\n",
              "    padding: 0;\n",
              "    width: 32px;\n",
              "  }\n",
              "\n",
              "  .colab-df-quickchart:hover {\n",
              "    background-color: var(--hover-bg-color);\n",
              "    box-shadow: 0 1px 2px rgba(60, 64, 67, 0.3), 0 1px 3px 1px rgba(60, 64, 67, 0.15);\n",
              "    fill: var(--button-hover-fill-color);\n",
              "  }\n",
              "\n",
              "  .colab-df-quickchart-complete:disabled,\n",
              "  .colab-df-quickchart-complete:disabled:hover {\n",
              "    background-color: var(--disabled-bg-color);\n",
              "    fill: var(--disabled-fill-color);\n",
              "    box-shadow: none;\n",
              "  }\n",
              "\n",
              "  .colab-df-spinner {\n",
              "    border: 2px solid var(--fill-color);\n",
              "    border-color: transparent;\n",
              "    border-bottom-color: var(--fill-color);\n",
              "    animation:\n",
              "      spin 1s steps(1) infinite;\n",
              "  }\n",
              "\n",
              "  @keyframes spin {\n",
              "    0% {\n",
              "      border-color: transparent;\n",
              "      border-bottom-color: var(--fill-color);\n",
              "      border-left-color: var(--fill-color);\n",
              "    }\n",
              "    20% {\n",
              "      border-color: transparent;\n",
              "      border-left-color: var(--fill-color);\n",
              "      border-top-color: var(--fill-color);\n",
              "    }\n",
              "    30% {\n",
              "      border-color: transparent;\n",
              "      border-left-color: var(--fill-color);\n",
              "      border-top-color: var(--fill-color);\n",
              "      border-right-color: var(--fill-color);\n",
              "    }\n",
              "    40% {\n",
              "      border-color: transparent;\n",
              "      border-right-color: var(--fill-color);\n",
              "      border-top-color: var(--fill-color);\n",
              "    }\n",
              "    60% {\n",
              "      border-color: transparent;\n",
              "      border-right-color: var(--fill-color);\n",
              "    }\n",
              "    80% {\n",
              "      border-color: transparent;\n",
              "      border-right-color: var(--fill-color);\n",
              "      border-bottom-color: var(--fill-color);\n",
              "    }\n",
              "    90% {\n",
              "      border-color: transparent;\n",
              "      border-bottom-color: var(--fill-color);\n",
              "    }\n",
              "  }\n",
              "</style>\n",
              "\n",
              "  <script>\n",
              "    async function quickchart(key) {\n",
              "      const quickchartButtonEl =\n",
              "        document.querySelector('#' + key + ' button');\n",
              "      quickchartButtonEl.disabled = true;  // To prevent multiple clicks.\n",
              "      quickchartButtonEl.classList.add('colab-df-spinner');\n",
              "      try {\n",
              "        const charts = await google.colab.kernel.invokeFunction(\n",
              "            'suggestCharts', [key], {});\n",
              "      } catch (error) {\n",
              "        console.error('Error during call to suggestCharts:', error);\n",
              "      }\n",
              "      quickchartButtonEl.classList.remove('colab-df-spinner');\n",
              "      quickchartButtonEl.classList.add('colab-df-quickchart-complete');\n",
              "    }\n",
              "    (() => {\n",
              "      let quickchartButtonEl =\n",
              "        document.querySelector('#df-e1e404dc-e44c-44d4-b6ec-7560d41bc1aa button');\n",
              "      quickchartButtonEl.style.display =\n",
              "        google.colab.kernel.accessAllowed ? 'block' : 'none';\n",
              "    })();\n",
              "  </script>\n",
              "</div>\n",
              "\n",
              "  <div id=\"id_a7a9600e-af2d-4800-8eb0-f419c83156d8\">\n",
              "    <style>\n",
              "      .colab-df-generate {\n",
              "        background-color: #E8F0FE;\n",
              "        border: none;\n",
              "        border-radius: 50%;\n",
              "        cursor: pointer;\n",
              "        display: none;\n",
              "        fill: #1967D2;\n",
              "        height: 32px;\n",
              "        padding: 0 0 0 0;\n",
              "        width: 32px;\n",
              "      }\n",
              "\n",
              "      .colab-df-generate:hover {\n",
              "        background-color: #E2EBFA;\n",
              "        box-shadow: 0px 1px 2px rgba(60, 64, 67, 0.3), 0px 1px 3px 1px rgba(60, 64, 67, 0.15);\n",
              "        fill: #174EA6;\n",
              "      }\n",
              "\n",
              "      [theme=dark] .colab-df-generate {\n",
              "        background-color: #3B4455;\n",
              "        fill: #D2E3FC;\n",
              "      }\n",
              "\n",
              "      [theme=dark] .colab-df-generate:hover {\n",
              "        background-color: #434B5C;\n",
              "        box-shadow: 0px 1px 3px 1px rgba(0, 0, 0, 0.15);\n",
              "        filter: drop-shadow(0px 1px 2px rgba(0, 0, 0, 0.3));\n",
              "        fill: #FFFFFF;\n",
              "      }\n",
              "    </style>\n",
              "    <button class=\"colab-df-generate\" onclick=\"generateWithVariable('status_stats')\"\n",
              "            title=\"Generate code using this dataframe.\"\n",
              "            style=\"display:none;\">\n",
              "\n",
              "  <svg xmlns=\"http://www.w3.org/2000/svg\" height=\"24px\"viewBox=\"0 0 24 24\"\n",
              "       width=\"24px\">\n",
              "    <path d=\"M7,19H8.4L18.45,9,17,7.55,7,17.6ZM5,21V16.75L18.45,3.32a2,2,0,0,1,2.83,0l1.4,1.43a1.91,1.91,0,0,1,.58,1.4,1.91,1.91,0,0,1-.58,1.4L9.25,21ZM18.45,9,17,7.55Zm-12,3A5.31,5.31,0,0,0,4.9,8.1,5.31,5.31,0,0,0,1,6.5,5.31,5.31,0,0,0,4.9,4.9,5.31,5.31,0,0,0,6.5,1,5.31,5.31,0,0,0,8.1,4.9,5.31,5.31,0,0,0,12,6.5,5.46,5.46,0,0,0,6.5,12Z\"/>\n",
              "  </svg>\n",
              "    </button>\n",
              "    <script>\n",
              "      (() => {\n",
              "      const buttonEl =\n",
              "        document.querySelector('#id_a7a9600e-af2d-4800-8eb0-f419c83156d8 button.colab-df-generate');\n",
              "      buttonEl.style.display =\n",
              "        google.colab.kernel.accessAllowed ? 'block' : 'none';\n",
              "\n",
              "      buttonEl.onclick = () => {\n",
              "        google.colab.notebook.generateWithVariable('status_stats');\n",
              "      }\n",
              "      })();\n",
              "    </script>\n",
              "  </div>\n",
              "\n",
              "    </div>\n",
              "  </div>\n"
            ],
            "application/vnd.google.colaboratory.intrinsic+json": {
              "type": "dataframe",
              "variable_name": "status_stats"
            }
          },
          "metadata": {},
          "execution_count": 20
        }
      ],
      "source": [
        "# Filter out the rows with InvoiceNo starting with \"C\" and create a new column indicating the transaction status\n",
        "df['Transaction_Status'] = np.where(df['InvoiceNo'].astype(str).str.startswith('C'), 'Cancelled', 'Completed')\n",
        "'''\n",
        "C14245345  Cancelled\n",
        "35365563   Completed\n",
        "'''\n",
        "# Analyze the characteristics of these rows (considering the new column)\n",
        "status_stats = df.groupby('Transaction_Status').describe()\n",
        "status_stats"
      ]
    },
    {
      "cell_type": "markdown",
      "id": "6e474de4",
      "metadata": {
        "papermill": {
          "duration": 0.060071,
          "end_time": "2023-09-13T18:55:44.415175",
          "exception": false,
          "start_time": "2023-09-13T18:55:44.355104",
          "status": "completed"
        },
        "tags": [],
        "id": "6e474de4"
      },
      "source": [
        "<div style=\"border-radius:10px; padding: 15px; background-color: #ffeacc; font-size:120%; text-align:left\">\n",
        "<h3 align=\"left\"><font color=#ff6200>Inferences from the Cancelled Transactions Data:</font></h3>\n",
        "\n",
        "Write your inferences here\n"
      ]
    },
    {
      "cell_type": "markdown",
      "source": [
        "The count of cancelled transactions is 8,872. The mean quantity of cancelled transactions is negative (-30.77), indicating that on average, more items were returned or cancelled than purchased. The standard deviation is relatively high (1172.25), suggesting significant variability in the quantity of cancelled items. The minimum quantity is -80,995, indicating a substantial quantity of items were cancelled in some transactions. The 25th, 50th (median), and 75th percentiles are -6, -2, and -1 respectively, indicating that most cancelled transactions involve relatively small quantities. UnitPrice:\n",
        "\n",
        "The count matches that of the Quantity column, indicating no missing values specifically in the cancelled transactions subset. The mean unit price of cancelled transactions is negative (-30.77), which could be due to refunds or price adjustments. The standard deviation is relatively high (1172.25), indicating significant variability in the unit prices of cancelled items. The minimum unit price is -11,062.06, suggesting some significant price adjustments or refunds. The 25th, 50th (median), and 75th percentiles are -6, -2, and -1 respectively, indicating that most cancelled items have relatively low unit prices. CustomerID:\n",
        "\n",
        "The count of customer IDs for cancelled transactions is 8,872, indicating there are missing customer IDs for some cancelled transactions. The mean customer ID is approximately 14,990, suggesting that cancelled transactions involve a variety of customers. The standard deviation is relatively high (1,708.23), indicating variability in customer IDs for cancelled transactions. The minimum customer ID is 12,346, suggesting that even high-value customers have cancelled transactions. The 25th, 50th (median), and 75th percentiles are 13,505, 14,868, and 16,393 respectively, indicating a wide range of customer IDs involved in cancelled transactions."
      ],
      "metadata": {
        "id": "D-q_5XNO5vsE"
      },
      "id": "D-q_5XNO5vsE"
    },
    {
      "cell_type": "markdown",
      "id": "137fcbd2",
      "metadata": {
        "papermill": {
          "duration": 0.060423,
          "end_time": "2023-09-13T18:55:44.534939",
          "exception": false,
          "start_time": "2023-09-13T18:55:44.474516",
          "status": "completed"
        },
        "tags": [],
        "id": "137fcbd2"
      },
      "source": [
        "<div style=\"border-radius:10px; padding: 15px; background-color: #ffeacc; font-size:120%; text-align:left\">\n",
        "<h3 align=\"left\"><font color=#ff6200>Strategy for Handling Cancelled Transactions:</font></h3>\n",
        "    \n",
        "Considering the project's objective to cluster customers based on their purchasing behavior and preferences and to eventually create a recommendation system, it's imperative to understand the cancellation patterns of customers. Therefore, the strategy is to retain these cancelled transactions in the dataset, marking them distinctly to facilitate further analysis. This approach will:\n",
        "\n",
        "- Enhance the clustering process by incorporating patterns and trends observed in cancellation data, which might represent certain customer behaviors or preferences.\n",
        "    \n",
        "    \n",
        "- Allow the recommendation system to possibly prevent suggesting products that have a high likelihood of being cancelled, thereby improving the quality of recommendations.\n",
        "\n"
      ]
    },
    {
      "cell_type": "code",
      "execution_count": 22,
      "id": "d9b1427b",
      "metadata": {
        "execution": {
          "iopub.execute_input": "2023-09-13T18:55:44.660637Z",
          "iopub.status.busy": "2023-09-13T18:55:44.660152Z",
          "iopub.status.idle": "2023-09-13T18:55:44.668369Z",
          "shell.execute_reply": "2023-09-13T18:55:44.666624Z"
        },
        "papermill": {
          "duration": 0.073523,
          "end_time": "2023-09-13T18:55:44.671722",
          "exception": false,
          "start_time": "2023-09-13T18:55:44.598199",
          "status": "completed"
        },
        "tags": [],
        "id": "d9b1427b",
        "outputId": "4f035783-a22c-45ae-caef-3e799a856f5e",
        "colab": {
          "base_uri": "https://localhost:8080/"
        }
      },
      "outputs": [
        {
          "output_type": "stream",
          "name": "stdout",
          "text": [
            "The percentage of cancelled transactions in the dataset is: 2.39%\n"
          ]
        }
      ],
      "source": [
        "# Finding the percentage of cancelled transactions\n",
        "# Calculate the percentage of cancelled transactions\n",
        "cancelled_percentage = (df[df['Transaction_Status'] == 'Cancelled'].shape[0] / df.shape[0]) * 100\n",
        "\n",
        "\n",
        "# Printing the percentage of cancelled transactions\n",
        "print(f\"The percentage of cancelled transactions in the dataset is: {cancelled_percentage:.2f}%\")"
      ]
    },
    {
      "cell_type": "markdown",
      "id": "b00cc10e",
      "metadata": {
        "papermill": {
          "duration": 0.060775,
          "end_time": "2023-09-13T18:55:44.793574",
          "exception": false,
          "start_time": "2023-09-13T18:55:44.732799",
          "status": "completed"
        },
        "tags": [],
        "id": "b00cc10e"
      },
      "source": [
        "<a id=\"StockCode_cleaning\"></a>\n",
        "# <b><span style='color:#fcc36d'>Step 3.4 |</span><span style='color:#ff6200'> Correcting StockCode Anomalies</span></b>\n",
        "⬆️ [Tabel of Contents](#contents_tabel)"
      ]
    },
    {
      "cell_type": "markdown",
      "id": "11c2b476",
      "metadata": {
        "papermill": {
          "duration": 0.061598,
          "end_time": "2023-09-13T18:55:44.916653",
          "exception": false,
          "start_time": "2023-09-13T18:55:44.855055",
          "status": "completed"
        },
        "tags": [],
        "id": "11c2b476"
      },
      "source": [
        "<div style=\"border-radius:10px; padding: 15px; background-color: #ffeacc; font-size:120%; text-align:left\">\n",
        "\n",
        "First of all, lets find the number of unique stock codes and to plot the top 10 most frequent stock codes along with their percentage frequency:"
      ]
    },
    {
      "cell_type": "code",
      "execution_count": 23,
      "id": "3c8eb6d4",
      "metadata": {
        "execution": {
          "iopub.execute_input": "2023-09-13T18:55:45.046871Z",
          "iopub.status.busy": "2023-09-13T18:55:45.046415Z",
          "iopub.status.idle": "2023-09-13T18:55:45.092406Z",
          "shell.execute_reply": "2023-09-13T18:55:45.091082Z"
        },
        "papermill": {
          "duration": 0.116377,
          "end_time": "2023-09-13T18:55:45.095198",
          "exception": false,
          "start_time": "2023-09-13T18:55:44.978821",
          "status": "completed"
        },
        "tags": [],
        "id": "3c8eb6d4",
        "outputId": "f27ae4a2-9765-4f8b-c0ca-5b614dd20752",
        "colab": {
          "base_uri": "https://localhost:8080/"
        }
      },
      "outputs": [
        {
          "output_type": "stream",
          "name": "stdout",
          "text": [
            "The number of unique stock codes in the dataset is: 3433\n"
          ]
        }
      ],
      "source": [
        "# Finding the number of unique stock codes\n",
        "unique_stock_codes = df['StockCode'].nunique()\n",
        "\n",
        "# Printing the number of unique stock codes\n",
        "print(f\"The number of unique stock codes in the dataset is: {unique_stock_codes}\")"
      ]
    },
    {
      "cell_type": "code",
      "execution_count": 24,
      "id": "af68693a",
      "metadata": {
        "execution": {
          "iopub.execute_input": "2023-09-13T18:55:45.219484Z",
          "iopub.status.busy": "2023-09-13T18:55:45.219021Z",
          "iopub.status.idle": "2023-09-13T18:55:45.778153Z",
          "shell.execute_reply": "2023-09-13T18:55:45.777153Z"
        },
        "papermill": {
          "duration": 0.623504,
          "end_time": "2023-09-13T18:55:45.780969",
          "exception": false,
          "start_time": "2023-09-13T18:55:45.157465",
          "status": "completed"
        },
        "tags": [],
        "id": "af68693a",
        "outputId": "5f72b746-f8cb-43ee-a6a1-7ee9a7e82dd0",
        "colab": {
          "base_uri": "https://localhost:8080/",
          "height": 306
        }
      },
      "outputs": [
        {
          "output_type": "display_data",
          "data": {
            "text/plain": [
              "<Figure size 1200x500 with 1 Axes>"
            ],
            "image/png": "[encoded data removed]"
          },
          "metadata": {}
        }
      ],
      "source": [
        "# Finding the top 10 most frequent stock codes\n",
        "top_10_stock_codes = df['StockCode'].value_counts(normalize=True).head(10) * 100\n",
        "# Plotting the top 10 most frequent stock codes\n",
        "plt.figure(figsize=(12, 5))\n",
        "top_10_stock_codes.plot(kind='barh', color='#ff6200')\n",
        "\n",
        "# Adding the percentage frequency on the bars\n",
        "for index, value in enumerate(top_10_stock_codes):\n",
        "    plt.text(value, index+0.25, f'{value:.2f}%', fontsize=10)\n",
        "\n",
        "plt.title('Top 10 Most Frequent Stock Codes')\n",
        "plt.xlabel('Percentage Frequency (%)')\n",
        "plt.ylabel('Stock Codes')\n",
        "plt.gca().invert_yaxis()\n",
        "plt.show()"
      ]
    },
    {
      "cell_type": "markdown",
      "id": "0593782c",
      "metadata": {
        "papermill": {
          "duration": 0.060129,
          "end_time": "2023-09-13T18:55:45.901732",
          "exception": false,
          "start_time": "2023-09-13T18:55:45.841603",
          "status": "completed"
        },
        "tags": [],
        "id": "0593782c"
      },
      "source": [
        "<div style=\"border-radius:10px; padding: 15px; background-color: #ffeacc; font-size:120%; text-align:left\">\n",
        "<h3 align=\"left\"><font color=#ff6200>Inferences on Stock Codes:</font></h3>\n",
        "\n",
        "Write your inferences here"
      ]
    },
    {
      "cell_type": "markdown",
      "source": [
        "The graph displays the top 10 stock codes and their respective percentage frequencies. The stock code “85123A” has the highest frequency at 0.51%. Other notable stock codes include “22423,” “85099B,” “47566,” and “84879.” The x-axis represents the Percentage Frequency (%) ranging from 0.0 to 0.5%. The y-axis lists the top ten stock codes."
      ],
      "metadata": {
        "id": "6auCsMqs6ELl"
      },
      "id": "6auCsMqs6ELl"
    },
    {
      "cell_type": "markdown",
      "id": "235088cd",
      "metadata": {
        "papermill": {
          "duration": 0.06263,
          "end_time": "2023-09-13T18:55:46.024789",
          "exception": false,
          "start_time": "2023-09-13T18:55:45.962159",
          "status": "completed"
        },
        "tags": [],
        "id": "235088cd"
      },
      "source": [
        "<div style=\"border-radius:10px; padding: 15px; background-color: #ffeacc; font-size:120%; text-align:left\">\n",
        "    \n",
        "To delve deeper into identifying these anomalies, let's explore the frequency of the number of numeric characters in the stock codes, which can provide insights into the nature of these unusual entries:"
      ]
    },
    {
      "cell_type": "code",
      "execution_count": 25,
      "id": "3b39dde0",
      "metadata": {
        "execution": {
          "iopub.execute_input": "2023-09-13T18:55:46.151662Z",
          "iopub.status.busy": "2023-09-13T18:55:46.150095Z",
          "iopub.status.idle": "2023-09-13T18:55:46.207574Z",
          "shell.execute_reply": "2023-09-13T18:55:46.206051Z"
        },
        "papermill": {
          "duration": 0.124219,
          "end_time": "2023-09-13T18:55:46.210927",
          "exception": false,
          "start_time": "2023-09-13T18:55:46.086708",
          "status": "completed"
        },
        "tags": [],
        "id": "3b39dde0",
        "outputId": "b8058192-9359-4703-b1b4-a652bf5fbf68",
        "colab": {
          "base_uri": "https://localhost:8080/"
        }
      },
      "outputs": [
        {
          "output_type": "stream",
          "name": "stdout",
          "text": [
            "Value counts of numeric character frequencies in unique stock codes:\n",
            "----------------------------------------------------------------------\n",
            "5    3425\n",
            "0       7\n",
            "1       1\n",
            "dtype: int64\n"
          ]
        }
      ],
      "source": [
        "# Finding the number of numeric characters in each unique stock code\n",
        "unique_stock_codes = df['StockCode'].unique()\n",
        "numeric_char_counts_in_unique_codes = pd.Series(unique_stock_codes).apply(lambda x: sum(c.isdigit() for c in str(x))).value_counts()\n",
        "\n",
        "# Printing the value counts for unique stock codes\n",
        "print(\"Value counts of numeric character frequencies in unique stock codes:\")\n",
        "print(\"-\"*70)\n",
        "print(numeric_char_counts_in_unique_codes)"
      ]
    },
    {
      "cell_type": "markdown",
      "id": "dafe502c",
      "metadata": {
        "papermill": {
          "duration": 0.060667,
          "end_time": "2023-09-13T18:55:46.333155",
          "exception": false,
          "start_time": "2023-09-13T18:55:46.272488",
          "status": "completed"
        },
        "tags": [],
        "id": "dafe502c"
      },
      "source": [
        "<div style=\"border-radius:10px; padding: 15px; background-color: #ffeacc; font-size:120%; text-align:left\">\n",
        "<h3 align=\"left\"><font color=#ff6200>Inference:</font></h3>\n",
        "\n",
        "The output indicates the following:\n",
        "\n",
        "Write your inferences here"
      ]
    },
    {
      "cell_type": "markdown",
      "source": [
        "\n",
        "The majority of unique stock codes have 5 numeric characters, which might represent a standard format or coding convention used by the business. Stock codes with 0 or 1 numeric character(s) are relatively rare, suggesting that they might be outliers or have special significance."
      ],
      "metadata": {
        "id": "q2R1DnSe6mF4"
      },
      "id": "q2R1DnSe6mF4"
    },
    {
      "cell_type": "code",
      "execution_count": 27,
      "id": "77541192",
      "metadata": {
        "execution": {
          "iopub.execute_input": "2023-09-13T18:55:46.457972Z",
          "iopub.status.busy": "2023-09-13T18:55:46.457500Z",
          "iopub.status.idle": "2023-09-13T18:55:46.472606Z",
          "shell.execute_reply": "2023-09-13T18:55:46.471035Z"
        },
        "papermill": {
          "duration": 0.078998,
          "end_time": "2023-09-13T18:55:46.475514",
          "exception": false,
          "start_time": "2023-09-13T18:55:46.396516",
          "status": "completed"
        },
        "scrolled": false,
        "tags": [],
        "id": "77541192",
        "outputId": "cf81b521-7fa9-43f6-c63f-0364340917dd",
        "colab": {
          "base_uri": "https://localhost:8080/"
        }
      },
      "outputs": [
        {
          "output_type": "stream",
          "name": "stdout",
          "text": [
            "Anomalous stock codes:\n",
            "----------------------\n",
            "POST\n",
            "D\n",
            "C2\n",
            "M\n",
            "BANK CHARGES\n",
            "PADS\n",
            "DOT\n",
            "CRUK\n"
          ]
        }
      ],
      "source": [
        "# Finding and printing the stock codes with 0 and 1 numeric characters\n",
        "anomalous_stock_codes = [code for code in unique_stock_codes if sum(c.isdigit() for c in str(code)) in (0, 1)]\n",
        "\n",
        "# Printing each stock code on a new line\n",
        "print(\"Anomalous stock codes:\")\n",
        "print(\"----------------------\")\n",
        "for code in anomalous_stock_codes:\n",
        "    print(code)\n"
      ]
    },
    {
      "cell_type": "markdown",
      "id": "4245f10f",
      "metadata": {
        "papermill": {
          "duration": 0.065017,
          "end_time": "2023-09-13T18:55:46.601301",
          "exception": false,
          "start_time": "2023-09-13T18:55:46.536284",
          "status": "completed"
        },
        "tags": [],
        "id": "4245f10f"
      },
      "source": [
        "<div style=\"border-radius:10px; padding: 15px; background-color: #ffeacc; font-size:120%; text-align:left\">\n",
        "    \n",
        "Let's calculate the percentage of records with these anomalous stock codes:    "
      ]
    },
    {
      "cell_type": "code",
      "execution_count": 28,
      "id": "2df9d357",
      "metadata": {
        "execution": {
          "iopub.execute_input": "2023-09-13T18:55:46.729880Z",
          "iopub.status.busy": "2023-09-13T18:55:46.729144Z",
          "iopub.status.idle": "2023-09-13T18:55:46.763749Z",
          "shell.execute_reply": "2023-09-13T18:55:46.762513Z"
        },
        "papermill": {
          "duration": 0.103691,
          "end_time": "2023-09-13T18:55:46.767256",
          "exception": false,
          "start_time": "2023-09-13T18:55:46.663565",
          "status": "completed"
        },
        "tags": [],
        "id": "2df9d357",
        "outputId": "84920d57-2ae3-45b0-a4e0-709140d6f5fe",
        "colab": {
          "base_uri": "https://localhost:8080/"
        }
      },
      "outputs": [
        {
          "output_type": "stream",
          "name": "stdout",
          "text": [
            "The percentage of records with anomalous stock codes in the dataset is: 0.50%\n"
          ]
        }
      ],
      "source": [
        "# Calculating the percentage of records with these stock codes\n",
        "percentage_anomalous = (df['StockCode'].isin(anomalous_stock_codes).sum() / len(df)) * 100\n",
        "\n",
        "# Printing the percentage\n",
        "print(f\"The percentage of records with anomalous stock codes in the dataset is: {percentage_anomalous:.2f}%\")"
      ]
    },
    {
      "cell_type": "markdown",
      "id": "ce1aef40",
      "metadata": {
        "papermill": {
          "duration": 0.062504,
          "end_time": "2023-09-13T18:55:46.894474",
          "exception": false,
          "start_time": "2023-09-13T18:55:46.831970",
          "status": "completed"
        },
        "tags": [],
        "id": "ce1aef40"
      },
      "source": [
        "<div style=\"border-radius:10px; padding: 15px; background-color: #ffeacc; font-size:120%; text-align:left\">\n",
        "\n",
        "<h3 align=\"left\"><font color=#ff6200>Inference:</font></h3>\n",
        "\n"
      ]
    },
    {
      "cell_type": "markdown",
      "source": [
        "The percentage of records with anomalous stock codes in the dataset is\n",
        "0.48%.\n",
        "\n",
        "This suggests that a very small portion of the dataset consists of records with anomalous stock codes, indicating that they are relatively rare occurrences compared to the total number of records.\n",
        "\n",
        "It reinforces the importance of handling these anomalous records appropriately, such as by removing them from the dataset, to maintain data integrity and ensure accurate analysis."
      ],
      "metadata": {
        "id": "FjBZ6vHo6ysU"
      },
      "id": "FjBZ6vHo6ysU"
    },
    {
      "cell_type": "markdown",
      "id": "74257d90",
      "metadata": {
        "papermill": {
          "duration": 0.062346,
          "end_time": "2023-09-13T18:55:47.019937",
          "exception": false,
          "start_time": "2023-09-13T18:55:46.957591",
          "status": "completed"
        },
        "tags": [],
        "id": "74257d90"
      },
      "source": [
        "<div style=\"border-radius:10px; padding: 15px; background-color: #ffeacc; font-size:120%; text-align:left\">\n",
        "<h3 align=\"left\"><font color=#ff6200>Strategy:</font></h3>\n",
        "\n",
        "Given the context of the project, where the aim is to cluster customers based on their product purchasing behaviors and develop a product recommendation system, it would be prudent to exclude these records with anomalous stock codes from the dataset. This way, the focus remains strictly on genuine product transactions, which would lead to a more accurate and meaningful analysis."
      ]
    },
    {
      "cell_type": "markdown",
      "id": "642d3e66",
      "metadata": {
        "papermill": {
          "duration": 0.062179,
          "end_time": "2023-09-13T18:55:47.144068",
          "exception": false,
          "start_time": "2023-09-13T18:55:47.081889",
          "status": "completed"
        },
        "tags": [],
        "id": "642d3e66"
      },
      "source": [
        "<div style=\"border-radius:10px; padding: 15px; background-color: #ffeacc; font-size:120%; text-align:left\">\n",
        "    \n",
        "Thus, the strategy would be to filter out and remove rows with these anomalous stock codes from the dataset before proceeding with further analysis and model development:"
      ]
    },
    {
      "cell_type": "code",
      "execution_count": 29,
      "id": "1db59942",
      "metadata": {
        "execution": {
          "iopub.execute_input": "2023-09-13T18:55:47.269454Z",
          "iopub.status.busy": "2023-09-13T18:55:47.268999Z",
          "iopub.status.idle": "2023-09-13T18:55:47.361677Z",
          "shell.execute_reply": "2023-09-13T18:55:47.360312Z"
        },
        "papermill": {
          "duration": 0.158751,
          "end_time": "2023-09-13T18:55:47.364629",
          "exception": false,
          "start_time": "2023-09-13T18:55:47.205878",
          "status": "completed"
        },
        "tags": [],
        "id": "1db59942"
      },
      "outputs": [],
      "source": [
        "# Removing rows with anomalous stock codes from the dataset\n",
        "df = df[~df['StockCode'].isin(anomalous_stock_codes)]"
      ]
    },
    {
      "cell_type": "code",
      "execution_count": 30,
      "id": "bc3dda95",
      "metadata": {
        "execution": {
          "iopub.execute_input": "2023-09-13T18:55:47.486411Z",
          "iopub.status.busy": "2023-09-13T18:55:47.485910Z",
          "iopub.status.idle": "2023-09-13T18:55:47.492752Z",
          "shell.execute_reply": "2023-09-13T18:55:47.491849Z"
        },
        "papermill": {
          "duration": 0.070041,
          "end_time": "2023-09-13T18:55:47.495154",
          "exception": false,
          "start_time": "2023-09-13T18:55:47.425113",
          "status": "completed"
        },
        "tags": [],
        "id": "bc3dda95",
        "outputId": "1b41932f-1d75-43bb-86f1-cac5439df5fb",
        "colab": {
          "base_uri": "https://localhost:8080/"
        }
      },
      "outputs": [
        {
          "output_type": "execute_result",
          "data": {
            "text/plain": [
              "232821"
            ]
          },
          "metadata": {},
          "execution_count": 30
        }
      ],
      "source": [
        "# Getting the number of rows in the dataframe\n",
        "df.shape[0]"
      ]
    },
    {
      "cell_type": "markdown",
      "id": "f523c417",
      "metadata": {
        "papermill": {
          "duration": 0.059584,
          "end_time": "2023-09-13T18:55:47.615935",
          "exception": false,
          "start_time": "2023-09-13T18:55:47.556351",
          "status": "completed"
        },
        "tags": [],
        "id": "f523c417"
      },
      "source": [
        "<a id=\"Description_cleaning\"></a>\n",
        "# <b><span style='color:#fcc36d'>Step 3.5 |</span><span style='color:#ff6200'> Cleaning Description Column</span></b>\n",
        "⬆️ [Tabel of Contents](#contents_tabel)"
      ]
    },
    {
      "cell_type": "markdown",
      "id": "0cbd21e6",
      "metadata": {
        "papermill": {
          "duration": 0.060155,
          "end_time": "2023-09-13T18:55:47.737908",
          "exception": false,
          "start_time": "2023-09-13T18:55:47.677753",
          "status": "completed"
        },
        "tags": [],
        "id": "0cbd21e6"
      },
      "source": [
        "<div style=\"border-radius:10px; padding: 15px; background-color: #ffeacc; font-size:120%; text-align:left\">\n",
        "    \n",
        "First, we will calculate the occurrence count of each unique description in the dataset. Then, we will plot the top 30 descriptions. This visualization will give a clear view of the highest occurring descriptions in the dataset:"
      ]
    },
    {
      "cell_type": "code",
      "execution_count": 31,
      "id": "ebd4eebb",
      "metadata": {
        "execution": {
          "iopub.execute_input": "2023-09-13T18:55:47.862360Z",
          "iopub.status.busy": "2023-09-13T18:55:47.861325Z",
          "iopub.status.idle": "2023-09-13T18:55:48.700021Z",
          "shell.execute_reply": "2023-09-13T18:55:48.699049Z"
        },
        "papermill": {
          "duration": 0.906535,
          "end_time": "2023-09-13T18:55:48.705153",
          "exception": false,
          "start_time": "2023-09-13T18:55:47.798618",
          "status": "completed"
        },
        "tags": [],
        "id": "ebd4eebb",
        "outputId": "03c2ab6c-2031-44ac-e1b0-2627fc8ddf55",
        "colab": {
          "base_uri": "https://localhost:8080/",
          "height": 360
        }
      },
      "outputs": [
        {
          "output_type": "display_data",
          "data": {
            "text/plain": [
              "<Figure size 1200x800 with 1 Axes>"
            ],
            "image/png": "[encoded data removed]"
          },
          "metadata": {}
        }
      ],
      "source": [
        "# Calculate the occurrence of each unique description and sort them\n",
        "description_counts = df['Description'].value_counts()#value-count\n",
        "# Get the top 30 descriptions\n",
        "top_30_descriptions = description_counts[:30]\n",
        "\n",
        "# Plotting\n",
        "plt.figure(figsize=(12,8))\n",
        "plt.barh(top_30_descriptions.index[::-1], top_30_descriptions.values[::-1], color='#ff6200')\n",
        "\n",
        "# Adding labels and title\n",
        "plt.xlabel('Number of Occurrences')\n",
        "plt.ylabel('Description')\n",
        "plt.title('Top 30 Most Frequent Descriptions')\n",
        "\n",
        "# Show the plot\n",
        "plt.show()"
      ]
    },
    {
      "cell_type": "markdown",
      "id": "23357ef7",
      "metadata": {
        "papermill": {
          "duration": 0.06267,
          "end_time": "2023-09-13T18:55:48.831715",
          "exception": false,
          "start_time": "2023-09-13T18:55:48.769045",
          "status": "completed"
        },
        "tags": [],
        "id": "23357ef7"
      },
      "source": [
        "<div style=\"border-radius:10px; padding: 15px; background-color: #ffeacc; font-size:120%; text-align:left\">\n",
        "<h3 align=\"left\"><font color=#ff6200>Inferences on Descriptions:</font></h3>\n",
        "\n",
        "- The most frequent descriptions are generally household items, particularly those associated with kitchenware, lunch bags, and decorative items.\n",
        "       \n",
        "    \n",
        "- Interestingly, all the descriptions are in uppercase, which might be a standardized format for entering product descriptions in the database. However, considering the inconsistencies and anomalies encountered in the dataset so far, it would be prudent to check if there are descriptions entered in lowercase or a mix of case styles."
      ]
    },
    {
      "cell_type": "code",
      "execution_count": 32,
      "id": "9aaa4a45",
      "metadata": {
        "execution": {
          "iopub.execute_input": "2023-09-13T18:55:48.964978Z",
          "iopub.status.busy": "2023-09-13T18:55:48.964519Z",
          "iopub.status.idle": "2023-09-13T18:55:49.041647Z",
          "shell.execute_reply": "2023-09-13T18:55:49.040636Z"
        },
        "papermill": {
          "duration": 0.14653,
          "end_time": "2023-09-13T18:55:49.044148",
          "exception": false,
          "start_time": "2023-09-13T18:55:48.897618",
          "status": "completed"
        },
        "tags": [],
        "id": "9aaa4a45",
        "outputId": "11e75cf8-008d-4e65-b77b-52371912b35c",
        "colab": {
          "base_uri": "https://localhost:8080/"
        }
      },
      "outputs": [
        {
          "output_type": "stream",
          "name": "stdout",
          "text": [
            "['WHITE HANGING HEART T-LIGHT HOLDER' 'WHITE METAL LANTERN'\n",
            " 'CREAM CUPID HEARTS COAT HANGER' ... 'HOME SWEET HOME KEY HOLDER'\n",
            " 'ZINC BOX SIGN HOME' 'HOME SWEET HOME 2 DRAWER CABINET']\n",
            "The unique descriptions containing lowercase characters are:\n",
            "------------------------------------------------------------\n",
            "BAG 500g SWIRLY MARBLES\n",
            "POLYESTER FILLER PAD 45x45cm\n",
            "POLYESTER FILLER PAD 45x30cm\n",
            "POLYESTER FILLER PAD 40x40cm\n",
            "FRENCH BLUE METAL DOOR SIGN No\n",
            "BAG 250g SWIRLY MARBLES\n",
            "BAG 125g SWIRLY MARBLES\n",
            "3 TRADITIONAl BISCUIT CUTTERS  SET\n",
            "NUMBER TILE COTTAGE GARDEN No\n",
            "FOLK ART GREETING CARD,pack/12\n",
            "ESSENTIAL BALM 3.5g TIN IN ENVELOPE\n",
            "POLYESTER FILLER PAD 65CMx65CM\n",
            "NUMBER TILE VINTAGE FONT No \n",
            "POLYESTER FILLER PAD 30CMx30CM\n",
            "POLYESTER FILLER PAD 60x40cm\n",
            "FLOWERS HANDBAG blue and orange\n",
            "Next Day Carriage\n",
            "THE KING GIFT BAG 25x24x12cm\n"
          ]
        }
      ],
      "source": [
        "# Find unique descriptions containing lowercase characters\n",
        "lowercase_descriptions = df['Description'].unique()\n",
        "print(lowercase_descriptions)\n",
        "lowercase_descriptions = [desc for desc in lowercase_descriptions if any(char.islower() for char in desc)]\n",
        "\n",
        "# Print the unique descriptions containing lowercase characters\n",
        "print(\"The unique descriptions containing lowercase characters are:\")\n",
        "print(\"-\"*60)\n",
        "for desc in lowercase_descriptions:\n",
        "    print(desc)"
      ]
    },
    {
      "cell_type": "markdown",
      "id": "e64446a0",
      "metadata": {
        "papermill": {
          "duration": 0.160289,
          "end_time": "2023-09-13T18:55:49.270577",
          "exception": false,
          "start_time": "2023-09-13T18:55:49.110288",
          "status": "completed"
        },
        "tags": [],
        "id": "e64446a0"
      },
      "source": [
        "<div style=\"border-radius:10px; padding: 15px; background-color: #ffeacc; font-size:120%; text-align:left\">\n",
        "<h3 align=\"left\"><font color=#ff6200>Inference:</font></h3>\n",
        "    \n",
        "- Upon reviewing the descriptions that contain lowercase characters, it is evident that some entries are not product descriptions, such as \"__Next Day Carriage__\" and \"__High Resolution Image__\". These entries seem to be unrelated to the actual products and might represent other types of information or service details."
      ]
    },
    {
      "cell_type": "markdown",
      "id": "e2cfe980",
      "metadata": {
        "papermill": {
          "duration": 0.064482,
          "end_time": "2023-09-13T18:55:49.399071",
          "exception": false,
          "start_time": "2023-09-13T18:55:49.334589",
          "status": "completed"
        },
        "tags": [],
        "id": "e2cfe980"
      },
      "source": [
        "<div style=\"border-radius:10px; padding: 15px; background-color: #ffeacc; font-size:120%; text-align:left\">\n",
        "<h3 align=\"left\"><font color=#ff6200>Strategy:</font></h3>\n",
        "\n",
        "- __Step 1__: Remove the rows where the descriptions contain service-related information like \"__Next Day Carriage__\" and \"__High Resolution Image__\", as these do not represent actual products and would not contribute to the clustering and recommendation system we aim to build.\n",
        "\n",
        "    \n",
        "- __Step 2__: For the remaining descriptions with mixed case, standardize the text to uppercase to maintain uniformity across the dataset. This will also assist in reducing the chances of having duplicate entries with different case styles.\n",
        "\n",
        "By implementing the above strategy, we can enhance the quality of our dataset, making it more suitable for the analysis and modeling phases of our project."
      ]
    },
    {
      "cell_type": "code",
      "execution_count": 33,
      "id": "ba3ed68d",
      "metadata": {
        "execution": {
          "iopub.execute_input": "2023-09-13T18:55:49.529855Z",
          "iopub.status.busy": "2023-09-13T18:55:49.529029Z",
          "iopub.status.idle": "2023-09-13T18:55:49.896053Z",
          "shell.execute_reply": "2023-09-13T18:55:49.894578Z"
        },
        "papermill": {
          "duration": 0.436004,
          "end_time": "2023-09-13T18:55:49.899055",
          "exception": false,
          "start_time": "2023-09-13T18:55:49.463051",
          "status": "completed"
        },
        "tags": [],
        "id": "ba3ed68d",
        "outputId": "e1d762b7-9432-4643-9edb-26fba69f760e",
        "colab": {
          "base_uri": "https://localhost:8080/"
        }
      },
      "outputs": [
        {
          "output_type": "stream",
          "name": "stdout",
          "text": [
            "The percentage of records with service-related descriptions in the dataset is: 0.01%\n"
          ]
        }
      ],
      "source": [
        "service_related_descriptions = [\"Next Day Carriage\", \"High Resolution Image\"]\n",
        "\n",
        "# Calculate the percentage of records with service-related descriptions\n",
        "service_related_percentage = df[df['Description'].isin(service_related_descriptions)].shape[0] / df.shape[0] * 100\n",
        "\n",
        "# Print the percentage of records with service-related descriptions\n",
        "print(f\"The percentage of records with service-related descriptions in the dataset is: {service_related_percentage:.2f}%\")\n"
      ]
    },
    {
      "cell_type": "code",
      "execution_count": 34,
      "id": "30511fa4",
      "metadata": {
        "execution": {
          "iopub.execute_input": "2023-09-13T18:55:50.030364Z",
          "iopub.status.busy": "2023-09-13T18:55:50.029601Z",
          "iopub.status.idle": "2023-09-13T18:55:50.036151Z",
          "shell.execute_reply": "2023-09-13T18:55:50.035087Z"
        },
        "papermill": {
          "duration": 0.074834,
          "end_time": "2023-09-13T18:55:50.038775",
          "exception": false,
          "start_time": "2023-09-13T18:55:49.963941",
          "status": "completed"
        },
        "tags": [],
        "id": "30511fa4",
        "outputId": "2bfc5dfb-f707-40b3-d98f-4a417162d290",
        "colab": {
          "base_uri": "https://localhost:8080/"
        }
      },
      "outputs": [
        {
          "output_type": "execute_result",
          "data": {
            "text/plain": [
              "232790"
            ]
          },
          "metadata": {},
          "execution_count": 34
        }
      ],
      "source": [
        "# Remove rows with service-related information in the description\n",
        "df = df[~df['Description'].isin(service_related_descriptions)]\n",
        "# Standardize the text to uppercase to maintain uniformity across the dataset\n",
        "df['Description'] = df['Description'].str.upper()\n",
        "# Getting the number of rows in the dataframe\n",
        "df.shape[0]"
      ]
    },
    {
      "cell_type": "markdown",
      "id": "464073aa",
      "metadata": {
        "papermill": {
          "duration": 0.064272,
          "end_time": "2023-09-13T18:55:50.169305",
          "exception": false,
          "start_time": "2023-09-13T18:55:50.105033",
          "status": "completed"
        },
        "tags": [],
        "id": "464073aa"
      },
      "source": [
        "<a id=\"UnitPrice_cleaning\"></a>\n",
        "# <b><span style='color:#fcc36d'>Step 3.6 |</span><span style='color:#ff6200'> Treating Zero Unit Prices</span></b>\n",
        "⬆️ [Tabel of Contents](#contents_tabel)"
      ]
    },
    {
      "cell_type": "markdown",
      "id": "19dc3b3b",
      "metadata": {
        "papermill": {
          "duration": 0.06281,
          "end_time": "2023-09-13T18:55:50.295256",
          "exception": false,
          "start_time": "2023-09-13T18:55:50.232446",
          "status": "completed"
        },
        "tags": [],
        "id": "19dc3b3b"
      },
      "source": [
        "<div style=\"border-radius:10px; padding: 15px; background-color: #ffeacc; font-size:120%; text-align:left\">\n",
        "    \n",
        "In this step, first I am going to take a look at the statistical description of the `UnitPrice` column:"
      ]
    },
    {
      "cell_type": "code",
      "execution_count": 35,
      "id": "81d5299a",
      "metadata": {
        "execution": {
          "iopub.execute_input": "2023-09-13T18:55:50.425829Z",
          "iopub.status.busy": "2023-09-13T18:55:50.425336Z",
          "iopub.status.idle": "2023-09-13T18:55:50.454505Z",
          "shell.execute_reply": "2023-09-13T18:55:50.453561Z"
        },
        "papermill": {
          "duration": 0.097583,
          "end_time": "2023-09-13T18:55:50.456794",
          "exception": false,
          "start_time": "2023-09-13T18:55:50.359211",
          "status": "completed"
        },
        "scrolled": true,
        "tags": [],
        "id": "81d5299a",
        "outputId": "3a9d3e6f-59d7-4c42-ad4c-ffc10074ead6",
        "colab": {
          "base_uri": "https://localhost:8080/"
        }
      },
      "outputs": [
        {
          "output_type": "execute_result",
          "data": {
            "text/plain": [
              "count    232790.000000\n",
              "mean          3.006762\n",
              "std           5.128790\n",
              "min           0.000000\n",
              "25%           1.250000\n",
              "50%           1.950000\n",
              "75%           3.750000\n",
              "max         649.500000\n",
              "Name: UnitPrice, dtype: float64"
            ]
          },
          "metadata": {},
          "execution_count": 35
        }
      ],
      "source": [
        "df['UnitPrice'].describe()"
      ]
    },
    {
      "cell_type": "markdown",
      "id": "db86de21",
      "metadata": {
        "papermill": {
          "duration": 0.065281,
          "end_time": "2023-09-13T18:55:50.587969",
          "exception": false,
          "start_time": "2023-09-13T18:55:50.522688",
          "status": "completed"
        },
        "tags": [],
        "id": "db86de21"
      },
      "source": [
        "<div style=\"border-radius:10px; padding: 15px; background-color: #ffeacc; font-size:120%; text-align:left\">\n",
        "<h3 align=\"left\"><font color=#ff6200>Inference:</font></h3>\n",
        "    \n",
        "Write your inferences here"
      ]
    },
    {
      "cell_type": "code",
      "execution_count": 36,
      "id": "c08c5b8b",
      "metadata": {
        "execution": {
          "iopub.execute_input": "2023-09-13T18:55:50.724232Z",
          "iopub.status.busy": "2023-09-13T18:55:50.722914Z",
          "iopub.status.idle": "2023-09-13T18:55:50.746301Z",
          "shell.execute_reply": "2023-09-13T18:55:50.745254Z"
        },
        "papermill": {
          "duration": 0.09384,
          "end_time": "2023-09-13T18:55:50.748583",
          "exception": false,
          "start_time": "2023-09-13T18:55:50.654743",
          "status": "completed"
        },
        "tags": [],
        "id": "c08c5b8b",
        "outputId": "7f36228f-06f4-446d-b3df-a1eb9ec04b95",
        "colab": {
          "base_uri": "https://localhost:8080/"
        }
      },
      "outputs": [
        {
          "output_type": "execute_result",
          "data": {
            "text/plain": [
              "count     20.000000\n",
              "mean      51.800000\n",
              "std       72.865124\n",
              "min        1.000000\n",
              "25%        3.500000\n",
              "50%       13.500000\n",
              "75%       84.000000\n",
              "max      240.000000\n",
              "Name: Quantity, dtype: float64"
            ]
          },
          "metadata": {},
          "execution_count": 36
        }
      ],
      "source": [
        "df[df['UnitPrice']==0].describe()['Quantity']"
      ]
    },
    {
      "cell_type": "markdown",
      "id": "f5fb6656",
      "metadata": {
        "papermill": {
          "duration": 0.066037,
          "end_time": "2023-09-13T18:55:50.879490",
          "exception": false,
          "start_time": "2023-09-13T18:55:50.813453",
          "status": "completed"
        },
        "tags": [],
        "id": "f5fb6656"
      },
      "source": [
        "<div style=\"border-radius:10px; padding: 15px; background-color: #ffeacc; font-size:120%; text-align:left\">\n",
        "<h3 align=\"left\"><font color=#ff6200>Inferences on UnitPrice: </font></h3>\n",
        "\n",
        "- The transactions with a unit price of zero are relatively few in number (33 transactions).\n",
        "    \n",
        "    \n",
        "- These transactions have a large variability in the quantity of items involved, ranging from 1 to 12540, with a substantial standard deviation.\n",
        "    \n",
        "    \n",
        "- Including these transactions in the clustering analysis might introduce noise and could potentially distort the customer behavior patterns identified by the clustering algorithm."
      ]
    },
    {
      "cell_type": "markdown",
      "id": "cdc32fb9",
      "metadata": {
        "papermill": {
          "duration": 0.064739,
          "end_time": "2023-09-13T18:55:51.008917",
          "exception": false,
          "start_time": "2023-09-13T18:55:50.944178",
          "status": "completed"
        },
        "tags": [],
        "id": "cdc32fb9"
      },
      "source": [
        "<div style=\"border-radius:10px; padding: 15px; background-color: #ffeacc; font-size:120%; text-align:left\">\n",
        "<h3 align=\"left\"><font color=#ff6200>Strategy: </font></h3>\n",
        "\n",
        "Given the small number of these transactions and their potential to introduce noise in the data analysis, the strategy should be to remove these transactions from the dataset. This would help in maintaining a cleaner and more consistent dataset, which is essential for building an accurate and reliable clustering model and recommendation system."
      ]
    },
    {
      "cell_type": "code",
      "execution_count": 37,
      "id": "a8fd2d24",
      "metadata": {
        "execution": {
          "iopub.execute_input": "2023-09-13T18:55:51.144317Z",
          "iopub.status.busy": "2023-09-13T18:55:51.143876Z",
          "iopub.status.idle": "2023-09-13T18:55:51.197763Z",
          "shell.execute_reply": "2023-09-13T18:55:51.196171Z"
        },
        "papermill": {
          "duration": 0.125633,
          "end_time": "2023-09-13T18:55:51.201038",
          "exception": false,
          "start_time": "2023-09-13T18:55:51.075405",
          "status": "completed"
        },
        "tags": [],
        "id": "a8fd2d24"
      },
      "outputs": [],
      "source": [
        "# Removing records with a unit price of zero to avoid potential data entry errors\n",
        "df = df[df['UnitPrice'] != 0]"
      ]
    },
    {
      "cell_type": "markdown",
      "id": "1c4d3071",
      "metadata": {
        "papermill": {
          "duration": 0.064292,
          "end_time": "2023-09-13T18:55:51.330774",
          "exception": false,
          "start_time": "2023-09-13T18:55:51.266482",
          "status": "completed"
        },
        "tags": [],
        "id": "1c4d3071"
      },
      "source": [
        "<a id=\"outlier_cleaning\"></a>\n",
        "# <b><span style='color:#fcc36d'>Step 3.7 |</span><span style='color:#ff6200'> Outlier Treatment</span></b>\n",
        "⬆️ [Tabel of Contents](#contents_tabel)"
      ]
    },
    {
      "cell_type": "markdown",
      "id": "921f8e84",
      "metadata": {
        "papermill": {
          "duration": 0.064205,
          "end_time": "2023-09-13T18:55:51.460106",
          "exception": false,
          "start_time": "2023-09-13T18:55:51.395901",
          "status": "completed"
        },
        "tags": [],
        "id": "921f8e84"
      },
      "source": [
        "<div style=\"border-radius:10px; padding: 15px; background-color: #ffeacc; font-size:120%; text-align:left\">\n",
        "    \n",
        "In K-means clustering, the algorithm is sensitive to both the scale of data and the presence of outliers, as they can significantly influence the position of centroids, potentially leading to incorrect cluster assignments. However, considering the context of this project where the final goal is to understand customer behavior and preferences through K-means clustering, it would be more prudent to address the issue of outliers __after the feature engineering phase__ where we create a customer-centric dataset. At this stage, the data is transactional, and removing outliers might eliminate valuable information that could play a crucial role in segmenting customers later on. Therefore, we will postpone the outlier treatment and proceed to the next stage for now."
      ]
    },
    {
      "cell_type": "code",
      "execution_count": 38,
      "id": "8fb2e314",
      "metadata": {
        "execution": {
          "iopub.execute_input": "2023-09-13T18:55:51.591901Z",
          "iopub.status.busy": "2023-09-13T18:55:51.591415Z",
          "iopub.status.idle": "2023-09-13T18:55:51.597960Z",
          "shell.execute_reply": "2023-09-13T18:55:51.596352Z"
        },
        "papermill": {
          "duration": 0.075851,
          "end_time": "2023-09-13T18:55:51.600414",
          "exception": false,
          "start_time": "2023-09-13T18:55:51.524563",
          "status": "completed"
        },
        "tags": [],
        "id": "8fb2e314"
      },
      "outputs": [],
      "source": [
        "# Resetting the index of the cleaned dataset\n",
        "df.reset_index(drop=True, inplace=True)"
      ]
    },
    {
      "cell_type": "code",
      "execution_count": 39,
      "id": "e53a70e2",
      "metadata": {
        "execution": {
          "iopub.execute_input": "2023-09-13T18:55:51.734440Z",
          "iopub.status.busy": "2023-09-13T18:55:51.733622Z",
          "iopub.status.idle": "2023-09-13T18:55:51.740743Z",
          "shell.execute_reply": "2023-09-13T18:55:51.739481Z"
        },
        "papermill": {
          "duration": 0.077309,
          "end_time": "2023-09-13T18:55:51.743412",
          "exception": false,
          "start_time": "2023-09-13T18:55:51.666103",
          "status": "completed"
        },
        "tags": [],
        "id": "e53a70e2",
        "outputId": "0ed46ffb-a3c9-4405-81c8-cc7d478787cc",
        "colab": {
          "base_uri": "https://localhost:8080/"
        }
      },
      "outputs": [
        {
          "output_type": "execute_result",
          "data": {
            "text/plain": [
              "232770"
            ]
          },
          "metadata": {},
          "execution_count": 39
        }
      ],
      "source": [
        "# Getting the number of rows in the dataframe\n",
        "df.shape[0]"
      ]
    }
  ],
  "metadata": {
    "kernelspec": {
      "display_name": "Python 3 (ipykernel)",
      "language": "python",
      "name": "python3"
    },
    "language_info": {
      "codemirror_mode": {
        "name": "ipython",
        "version": 3
      },
      "file_extension": ".py",
      "mimetype": "text/x-python",
      "name": "python",
      "nbconvert_exporter": "python",
      "pygments_lexer": "ipython3",
      "version": "3.11.5"
    },
    "papermill": {
      "default_parameters": {},
      "duration": 168.09806,
      "end_time": "2023-09-13T18:58:13.013821",
      "environment_variables": {},
      "exception": null,
      "input_path": "__notebook__.ipynb",
      "output_path": "__notebook__.ipynb",
      "parameters": {},
      "start_time": "2023-09-13T18:55:24.915761",
      "version": "2.4.0"
    },
    "colab": {
      "provenance": [],
      "include_colab_link": true
    }
  },
  "nbformat": 4,
  "nbformat_minor": 5
}